{
 "cells": [
  {
   "cell_type": "markdown",
   "metadata": {},
   "source": [
    "<h2>Final Report</h2>"
   ]
  },
  {
   "cell_type": "markdown",
   "metadata": {},
   "source": [
    "<h2>1. Introduction</h2>"
   ]
  },
  {
   "cell_type": "markdown",
   "metadata": {},
   "source": [
    "<h3>1.1 Problem Description</h3>"
   ]
  },
  {
   "cell_type": "markdown",
   "metadata": {},
   "source": [
    "Following the second suggestion, I will use the data from Foursquare to analyze the different types of businesses in the city of Cuenca, Ecuador.  This is a small city, essentially a tourist destination due to its denomination as Cultural Heritage of Humanity, in addition to its beautiful spanish colonial architecture. \n",
    "Cuenca is visited by a large number of people from different parts of the world. Of course, at this time all tourist activities are suspended by the coronavirus health crisis. \n",
    "But after that, I am very sure that there will be new kinds of opportunities available for this beautiful city to attract new visitors from the world.\n",
    "Therefore, the objective will be to find the different types of restaurants and food places by categories and the most visited, to guide local investors to find new places in the city to establish new business opportunities.\n"
   ]
  },
  {
   "cell_type": "markdown",
   "metadata": {},
   "source": [
    "<h2>2. Data Section</h2>"
   ]
  },
  {
   "cell_type": "markdown",
   "metadata": {},
   "source": [
    "<h3>2.1 Description of the data</h3>"
   ]
  },
  {
   "cell_type": "markdown",
   "metadata": {},
   "source": [
    "The city of Cuenca is divided into neighborhoods, currently it has 15 neighborhoods, all with different land uses and established restaurants throughout the city.  I will use the geographical location of the latitude and longitude of the neighborhoods to send inquiries to the Foursquare service to explore all the places in each neighborhood.  After that, I will use the average of the most frequented and best Foursquare ratings to determine the type of places in each neighborhood.  \n",
    "This will be great information to find out the preferred place in different tourist areas of different neighborhoods and will serve restaurant owners to find possible new places to open branches. "
   ]
  },
  {
   "cell_type": "markdown",
   "metadata": {},
   "source": [
    "<h3>2.2 Data source</h3>"
   ]
  },
  {
   "cell_type": "markdown",
   "metadata": {},
   "source": [
    "The data to be used will be the list of neighborhoods \"parroquias\" in spanish, publicly available on the local government site of the \"Municipality of Cuenca\" located at http://ide.cuenca.gob.ec/geoportal-web/viewer.jsf in the section \"Parroquias Urbanas\".\n",
    "Using the Google Maps geocoding page https://developers.google.com/maps/documentation/geocoding/intro?hl=es-419. I will make a csv file that contains the name of the 15 neighborhoods, as well as the latitude and longitude of each one."
   ]
  },
  {
   "cell_type": "markdown",
   "metadata": {},
   "source": [
    "            name\t      lat           \tlng\n",
    "   0\tBellavista\t    -2.881293\t    -79.005168\n",
    "   1\tSan Sebastián\t-2.890083\t    -79.026364\n",
    "   . . . "
   ]
  },
  {
   "cell_type": "markdown",
   "metadata": {},
   "source": [
    "With this information, I will send inquiries to the Foursquare service to explore each neighborhood in a 500 meters radius, as we practice in the corresponding laboratories."
   ]
  },
  {
   "cell_type": "markdown",
   "metadata": {},
   "source": [
    "limit = 100\n",
    "radius = 500\n",
    "url = 'https://api.foursquare.com/v2/venues/explore?&client_id={}&client_secret={}&ll={},{}&v={}&radius={}&limit={}'.format(CLIENT_ID, CLIENT_SECRET, -2.881293, -79.005168, VERSION, radius, limit)"
   ]
  }
 ],
 "metadata": {
  "kernelspec": {
   "display_name": "Python 3",
   "language": "python",
   "name": "python3"
  },
  "language_info": {
   "codemirror_mode": {
    "name": "ipython",
    "version": 3
   },
   "file_extension": ".py",
   "mimetype": "text/x-python",
   "name": "python",
   "nbconvert_exporter": "python",
   "pygments_lexer": "ipython3",
   "version": "3.6.8"
  }
 },
 "nbformat": 4,
 "nbformat_minor": 4
}

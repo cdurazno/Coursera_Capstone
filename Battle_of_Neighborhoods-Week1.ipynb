{
 "cells": [
  {
   "cell_type": "markdown",
   "metadata": {},
   "source": [
    "<h2>Final Report</h2>"
   ]
  },
  {
   "cell_type": "markdown",
   "metadata": {},
   "source": [
    "<h2>1. Introduction</h2>"
   ]
  },
  {
   "cell_type": "markdown",
   "metadata": {},
   "source": [
    "<h3>1.1 Problem Description</h3>"
   ]
  },
  {
   "cell_type": "markdown",
   "metadata": {},
   "source": [
    "Following the second suggestion, I will use the data from Foursquare to analyze the different types of businesses in the city of Cuenca, Ecuador.  This is a small city, essentially a tourist destination due to its denomination as Cultural Heritage of Humanity, in addition to its beautiful spanish colonial architecture. \n",
    "Cuenca is visited by a large number of people from different parts of the world. Of course, at this time all tourist activities are suspended by the coronavirus health crisis. \n",
    "But after that, I am very sure that there will be new kinds of opportunities available for this beautiful city to attract new visitors from the world.\n",
    "Therefore, the objective will be to find the different types of restaurants and food places by categories and the most visited, to guide local investors to find new places in the city to establish new business opportunities.\n"
   ]
  },
  {
   "cell_type": "markdown",
   "metadata": {},
   "source": [
    "<h2>2. Data Section</h2>"
   ]
  },
  {
   "cell_type": "markdown",
   "metadata": {},
   "source": [
    "<h3>2.1 Description of the data</h3>"
   ]
  },
  {
   "cell_type": "markdown",
   "metadata": {},
   "source": [
    "The city of Cuenca is divided into neighborhoods, currently it has 15 neighborhoods, all with different land uses and established restaurants throughout the city.  I will use the geographical location of the latitude and longitude of the neighborhoods to send inquiries to the Foursquare service to explore all the places in each neighborhood.  After that, I will use the average of the most frequented and best Foursquare ratings to determine the type of places in each neighborhood.  \n",
    "This will be great information to find out the preferred place in different tourist areas of different neighborhoods and will serve restaurant owners to find possible new places to open branches. "
   ]
  },
  {
   "cell_type": "markdown",
   "metadata": {},
   "source": [
    "<h3>2.2 Data source</h3>"
   ]
  },
  {
   "cell_type": "markdown",
   "metadata": {},
   "source": [
    "The data to be used will be the list of neighborhoods \"parroquias\" in spanish, publicly available on the local government site of the \"Municipalidad de Cuenca\" located at http://ide.cuenca.gob.ec/geoportal-web/viewer.jsf in the section \"Parroquias Urbanas\".\n",
    "Using the Google Maps geocoding page https://developers.google.com/maps/documentation/geocoding/intro?hl=es-419. I will make a csv file that contains the name of the 15 neighborhoods, as well as the latitude and longitude of each one."
   ]
  },
  {
   "cell_type": "markdown",
   "metadata": {},
   "source": [
    "               name\t            lat             \tlng\n",
    "    0           Bellavista       -2.881293       -79.005168\n",
    "    1           San Blas         -2.900793       -78.999998\n",
    "    2           Sucre            -2.901130       -79.015505\n",
    "    . . . "
   ]
  },
  {
   "cell_type": "markdown",
   "metadata": {},
   "source": [
    "With this information, I will send inquiries to the Foursquare service, using a function to explore each neighborhood in a 1000 meters radius, as we practice in the corresponding laboratories."
   ]
  },
  {
   "cell_type": "markdown",
   "metadata": {},
   "source": [
    "    limit = 100\n",
    "    radius = 1000\n",
    "url = 'https://api.foursquare.com/v2/venues/explore?&client_id={}&client_secret={}&ll={},{}&v={}&radius={}&limit={}'.format(CLIENT_ID, CLIENT_SECRET, -2.881293, -79.005168, VERSION, radius, limit)"
   ]
  },
  {
   "cell_type": "markdown",
   "metadata": {},
   "source": [
    "I will create a data frame to filter by categories and use all the places that include the words: restaurant, food, coffee shop, fast food, or something similar related to the food business.\n",
    "Once the information is filtered with related places, it will be necessary to present it on a map.  \n",
    "Continuing with the data analisys, once I get the venues related to food bussiness, will use again the Foursquare information to get the Rating value for each of the food venues.\n",
    "This will be accomplish with a new function to send inquiries to Foursqueare using the venue id and get the rating.  Then it will be merged to the original food venues dataframe."
   ]
  },
  {
   "cell_type": "markdown",
   "metadata": {},
   "source": [
    "     venue_id = '50784860e4b06b24d94043af'\n",
    "url = 'https://api.foursquare.com/v2/venues/{}?client_id={}&client_secret={}&v={}'.format(\n",
    "            venue_id, CLIENT_ID, CLIENT_SECRET, VERSION)"
   ]
  },
  {
   "cell_type": "markdown",
   "metadata": {},
   "source": [
    "Once that the rating is in the dataframe I will clustering the venues using the mean of the rating, with this information our investments will get a big picture about the best ranking places and the location of it on Cuenca, Ecuador.\n",
    "This cluster will be presented on a Map grouped by the different levels of the cluster with their respective rating."
   ]
  }
 ],
 "metadata": {
  "kernelspec": {
   "display_name": "Python 3",
   "language": "python",
   "name": "python3"
  },
  "language_info": {
   "codemirror_mode": {
    "name": "ipython",
    "version": 3
   },
   "file_extension": ".py",
   "mimetype": "text/x-python",
   "name": "python",
   "nbconvert_exporter": "python",
   "pygments_lexer": "ipython3",
   "version": "3.6.8"
  }
 },
 "nbformat": 4,
 "nbformat_minor": 4
}

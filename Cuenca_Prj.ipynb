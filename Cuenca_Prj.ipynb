{
 "cells": [
  {
   "cell_type": "markdown",
   "metadata": {},
   "source": [
    "<h2>Capstone Project - Final Report</h2>"
   ]
  },
  {
   "cell_type": "markdown",
   "metadata": {},
   "source": [
    "<h2>1. Introduction</h2>"
   ]
  },
  {
   "cell_type": "markdown",
   "metadata": {},
   "source": [
    "<h3>1.1 Problem Description</h3>"
   ]
  },
  {
   "cell_type": "markdown",
   "metadata": {},
   "source": [
    "Following the second suggestion, I will use the data from Foursquare to analyze the different types of businesses in the city of Cuenca, Ecuador.  This is a small city, essentially a tourist destination due to its denomination as Cultural Heritage of Humanity, in addition to its beautiful spanish colonial architecture. \n",
    "Cuenca is visited by a large number of people from different parts of the world. Of course, at this time all tourist activities are suspended by the coronavirus health crisis. \n",
    "But after that, I am very sure that there will be new kinds of opportunities available for this beautiful city to attract new visitors from the world.\n",
    "Therefore, the objective will be to find the different types of restaurants and food places by categories and show their ranking, an the areas were they are most located.  With this information could guide to local investors to find new areas and places in the city to establish new business opportunities."
   ]
  },
  {
   "cell_type": "markdown",
   "metadata": {},
   "source": [
    "<h2>2. Data Section</h2>"
   ]
  },
  {
   "cell_type": "markdown",
   "metadata": {},
   "source": [
    "<h3>2.1 Description of the data</h3>"
   ]
  },
  {
   "cell_type": "markdown",
   "metadata": {},
   "source": [
    "The city of Cuenca is divided into neighborhoods, currently it has 15 neighborhoods, all with different land uses and established restaurants throughout the city.  I will use the geographical location of the latitude and longitude of the neighborhoods to send inquiries to the Foursquare service to explore all the places in each neighborhood.  After that, I will use the Foursquare ratings to determine wich categories are the best qualifyed and where are located in each neighborhood.  \n",
    "This will be great information to find out the preferred place in different neighborhoods and will serve restaurant owners to find possible new places to open branches. "
   ]
  },
  {
   "cell_type": "markdown",
   "metadata": {},
   "source": [
    "<h3>2.2 Data source</h3>"
   ]
  },
  {
   "cell_type": "markdown",
   "metadata": {},
   "source": [
    "The data to be used will be the list of neighborhoods \"parroquias\" in spanish, publicly available on the local government site of the \"Municipalidad de Cuenca\" located at http://ide.cuenca.gob.ec/geoportal-web/viewer.jsf in the section \"Parroquias Urbanas\".\n",
    "Using the Google Maps geocoding page https://developers.google.com/maps/documentation/geocoding/intro?hl=es-419. I will make a csv file that contains the name of the 15 neighborhoods, as well as the latitude and longitude of each one."
   ]
  },
  {
   "cell_type": "markdown",
   "metadata": {},
   "source": [
    "               name\t            lat             \tlng\n",
    "    0           Bellavista       -2.881293       -79.005168\n",
    "    1           San Blas         -2.900793       -78.999998\n",
    "    2           Sucre            -2.901130       -79.015505\n",
    "    . . . "
   ]
  },
  {
   "cell_type": "markdown",
   "metadata": {},
   "source": [
    "With this information, I will send inquiries to the Foursquare service, using a function to explore each neighborhood in a 1000 meters radius, as we practice in the corresponding laboratories."
   ]
  },
  {
   "cell_type": "markdown",
   "metadata": {},
   "source": [
    "    limit = 100\n",
    "    radius = 1000\n",
    "url = 'https://api.foursquare.com/v2/venues/explore?&client_id={}&client_secret={}&ll={},{}&v={}&radius={}&limit={}'.format(CLIENT_ID, CLIENT_SECRET, -2.881293, -79.005168, VERSION, radius, limit)"
   ]
  },
  {
   "cell_type": "markdown",
   "metadata": {},
   "source": [
    "I will create a data frame to filter by categories and use all the places that include the words: restaurant, food, coffee shop, fast food, or something similar related to the food business.\n",
    "Once the information is filtered with related places, it will be necessary to present it on a map.  \n",
    "Continuing with the data analisys, once I get the venues related to food bussiness, will use again the Foursquare information to get the Rating value for each of the food venues.\n",
    "This will be accomplish with a new function to send inquiries to Foursqueare using the venue id and get the rating.  Then it will be merged to the original food venues dataframe."
   ]
  },
  {
   "cell_type": "markdown",
   "metadata": {},
   "source": [
    " venue_id = '50784860e4b06b24d94043af'\n",
    "url = 'https://api.foursquare.com/v2/venues/{}?client_id={}&client_secret={}&v={}'.format(\n",
    "            venue_id, CLIENT_ID, CLIENT_SECRET, VERSION)"
   ]
  },
  {
   "cell_type": "markdown",
   "metadata": {},
   "source": [
    "Once that the rating is in the dataframe I will clustering the venues using the mean of the rating, with this information our investments will get a big picture about the best ranking places and the location of it on Cuenca, Ecuador.\n",
    "This cluster will be presented on a Map grouped by the different levels of the cluster with their respective rating."
   ]
  },
  {
   "cell_type": "markdown",
   "metadata": {},
   "source": [
    "First import all the needed dependencies"
   ]
  },
  {
   "cell_type": "code",
   "execution_count": 2,
   "metadata": {},
   "outputs": [],
   "source": [
    "import requests\n",
    "import pandas as pd \n",
    "import numpy as np \n",
    "import random\n",
    "from geopy.geocoders import Nominatim\n",
    "from IPython.display import Image \n",
    "from IPython.core.display import HTML     \n",
    "from pandas.io.json import json_normalize\n",
    "import folium\n",
    "from sklearn.cluster import KMeans\n",
    "import matplotlib.cm as cm\n",
    "import matplotlib.colors as colors\n",
    "import matplotlib as mpl\n",
    "import matplotlib.pyplot as plt\n",
    "mpl.style.use('ggplot')"
   ]
  },
  {
   "cell_type": "markdown",
   "metadata": {},
   "source": [
    "Assign credentials to use with Foursquare Service"
   ]
  },
  {
   "cell_type": "code",
   "execution_count": 3,
   "metadata": {},
   "outputs": [],
   "source": [
    "CLIENT_ID = '' # your Foursquare ID\n",
    "CLIENT_SECRET = '' # your Foursquare Secret\n",
    "VERSION = ''\n",
    "LIMIT = '100'"
   ]
  },
  {
   "cell_type": "markdown",
   "metadata": {},
   "source": [
    "CSV file with the \"parroquias\" names and coordinates "
   ]
  },
  {
   "cell_type": "code",
   "execution_count": 4,
   "metadata": {},
   "outputs": [],
   "source": [
    "file_name='ParroquiasUrbanasCuenca_GeoLoc.csv'\n",
    "cuenca_neighborhood=pd.read_csv(file_name)"
   ]
  },
  {
   "cell_type": "markdown",
   "metadata": {},
   "source": [
    "Convert the csv file to DataFrame"
   ]
  },
  {
   "cell_type": "code",
   "execution_count": 5,
   "metadata": {},
   "outputs": [
    {
     "data": {
      "text/html": [
       "<div>\n",
       "<style scoped>\n",
       "    .dataframe tbody tr th:only-of-type {\n",
       "        vertical-align: middle;\n",
       "    }\n",
       "\n",
       "    .dataframe tbody tr th {\n",
       "        vertical-align: top;\n",
       "    }\n",
       "\n",
       "    .dataframe thead th {\n",
       "        text-align: right;\n",
       "    }\n",
       "</style>\n",
       "<table border=\"1\" class=\"dataframe\">\n",
       "  <thead>\n",
       "    <tr style=\"text-align: right;\">\n",
       "      <th></th>\n",
       "      <th>name</th>\n",
       "      <th>lat</th>\n",
       "      <th>lng</th>\n",
       "    </tr>\n",
       "  </thead>\n",
       "  <tbody>\n",
       "    <tr>\n",
       "      <th>0</th>\n",
       "      <td>Bellavista</td>\n",
       "      <td>-2.881293</td>\n",
       "      <td>-79.005168</td>\n",
       "    </tr>\n",
       "    <tr>\n",
       "      <th>1</th>\n",
       "      <td>San Sebastián</td>\n",
       "      <td>-2.890083</td>\n",
       "      <td>-79.026364</td>\n",
       "    </tr>\n",
       "    <tr>\n",
       "      <th>2</th>\n",
       "      <td>El Batán</td>\n",
       "      <td>-2.896284</td>\n",
       "      <td>-79.033429</td>\n",
       "    </tr>\n",
       "    <tr>\n",
       "      <th>3</th>\n",
       "      <td>Yanuncay</td>\n",
       "      <td>-2.915857</td>\n",
       "      <td>-79.027777</td>\n",
       "    </tr>\n",
       "    <tr>\n",
       "      <th>4</th>\n",
       "      <td>Sucre</td>\n",
       "      <td>-2.901130</td>\n",
       "      <td>-79.015505</td>\n",
       "    </tr>\n",
       "  </tbody>\n",
       "</table>\n",
       "</div>"
      ],
      "text/plain": [
       "            name       lat        lng\n",
       "0     Bellavista -2.881293 -79.005168\n",
       "1  San Sebastián -2.890083 -79.026364\n",
       "2       El Batán -2.896284 -79.033429\n",
       "3       Yanuncay -2.915857 -79.027777\n",
       "4          Sucre -2.901130 -79.015505"
      ]
     },
     "execution_count": 5,
     "metadata": {},
     "output_type": "execute_result"
    }
   ],
   "source": [
    "cuenca_neighborhood.head()"
   ]
  },
  {
   "cell_type": "markdown",
   "metadata": {},
   "source": [
    "Function to get nearby places around the center of each neighborhood"
   ]
  },
  {
   "cell_type": "code",
   "execution_count": 6,
   "metadata": {},
   "outputs": [],
   "source": [
    "def getNearbyVenues(names, latitudes, longitudes, radius=1000):\n",
    "    \n",
    "    venues_list=[]\n",
    "    for name, lat, lng in zip(names, latitudes, longitudes):\n",
    "        print(name)\n",
    "            \n",
    "        # create the API request URL\n",
    "        url = 'https://api.foursquare.com/v2/venues/explore?&client_id={}&client_secret={}&v={}&ll={},{}&radius={}&limit={}'.format(\n",
    "            CLIENT_ID, \n",
    "            CLIENT_SECRET, \n",
    "            VERSION, \n",
    "            lat, \n",
    "            lng, \n",
    "            radius, \n",
    "            LIMIT)\n",
    "            \n",
    "        # make the GET request\n",
    "        results = requests.get(url).json()[\"response\"]['groups'][0]['items']\n",
    "        \n",
    "        # return only relevant information for each nearby venue\n",
    "        venues_list.append([(\n",
    "            name,\n",
    "            lat,\n",
    "            lng,\n",
    "            v['venue']['name'],\n",
    "            v['venue']['id'],\n",
    "            v['venue']['location']['lat'], \n",
    "            v['venue']['location']['lng'],  \n",
    "            v['venue']['categories'][0]['name']) for v in results])\n",
    "\n",
    "    nearby_venues = pd.DataFrame([item for venue_list in venues_list for item in venue_list])\n",
    "    nearby_venues.columns = ['Parroquia',\n",
    "                  'Parroquia Latitude',\n",
    "                  'Parroquia Longitude',\n",
    "                  'Venue',\n",
    "                  'Id',\n",
    "                  'Latitude', \n",
    "                  'Longitude', \n",
    "                  'Category']\n",
    "    \n",
    "    return(nearby_venues)"
   ]
  },
  {
   "cell_type": "markdown",
   "metadata": {},
   "source": [
    "Process the function using the neighborhood dataframe as input parameters"
   ]
  },
  {
   "cell_type": "code",
   "execution_count": 7,
   "metadata": {},
   "outputs": [
    {
     "name": "stdout",
     "output_type": "stream",
     "text": [
      "Bellavista\n",
      "San Sebastián\n",
      "El Batán\n",
      "Yanuncay\n",
      "Sucre\n",
      "El Sagrario\n",
      "Huayna-Capac\n",
      "Gil Ramírez Dávalos\n",
      "San Blas\n",
      "Cañaribamba\n",
      "El Vecino\n",
      "Hermano Miguel\n",
      "Totoracocha\n",
      "Machángara\n",
      "Monay\n"
     ]
    }
   ],
   "source": [
    "cuenca_venues = getNearbyVenues(names=cuenca_neighborhood['name'],\n",
    "                                   latitudes=cuenca_neighborhood['lat'],\n",
    "                                   longitudes=cuenca_neighborhood['lng']\n",
    "                                  )"
   ]
  },
  {
   "cell_type": "code",
   "execution_count": 8,
   "metadata": {},
   "outputs": [
    {
     "data": {
      "text/plain": [
       "(279, 8)"
      ]
     },
     "execution_count": 8,
     "metadata": {},
     "output_type": "execute_result"
    }
   ],
   "source": [
    "cuenca_venues.shape"
   ]
  },
  {
   "cell_type": "markdown",
   "metadata": {},
   "source": [
    "Clean the duplicated data"
   ]
  },
  {
   "cell_type": "code",
   "execution_count": 9,
   "metadata": {},
   "outputs": [],
   "source": [
    "cuenca_venues.drop_duplicates(subset =\"Venue\", inplace = True)"
   ]
  },
  {
   "cell_type": "code",
   "execution_count": 10,
   "metadata": {},
   "outputs": [
    {
     "data": {
      "text/html": [
       "<div>\n",
       "<style scoped>\n",
       "    .dataframe tbody tr th:only-of-type {\n",
       "        vertical-align: middle;\n",
       "    }\n",
       "\n",
       "    .dataframe tbody tr th {\n",
       "        vertical-align: top;\n",
       "    }\n",
       "\n",
       "    .dataframe thead th {\n",
       "        text-align: right;\n",
       "    }\n",
       "</style>\n",
       "<table border=\"1\" class=\"dataframe\">\n",
       "  <thead>\n",
       "    <tr style=\"text-align: right;\">\n",
       "      <th></th>\n",
       "      <th>Parroquia</th>\n",
       "      <th>Parroquia Latitude</th>\n",
       "      <th>Parroquia Longitude</th>\n",
       "      <th>Venue</th>\n",
       "      <th>Id</th>\n",
       "      <th>Latitude</th>\n",
       "      <th>Longitude</th>\n",
       "      <th>Category</th>\n",
       "    </tr>\n",
       "  </thead>\n",
       "  <tbody>\n",
       "    <tr>\n",
       "      <th>0</th>\n",
       "      <td>Bellavista</td>\n",
       "      <td>-2.881293</td>\n",
       "      <td>-79.005168</td>\n",
       "      <td>Picantes De Leo, Bellavista</td>\n",
       "      <td>50784860e4b06b24d94043af</td>\n",
       "      <td>-2.888823</td>\n",
       "      <td>-79.006569</td>\n",
       "      <td>Seafood Restaurant</td>\n",
       "    </tr>\n",
       "    <tr>\n",
       "      <th>1</th>\n",
       "      <td>Bellavista</td>\n",
       "      <td>-2.881293</td>\n",
       "      <td>-79.005168</td>\n",
       "      <td>Fybeca</td>\n",
       "      <td>4f660ce2e4b08b4770d62b31</td>\n",
       "      <td>-2.883704</td>\n",
       "      <td>-79.003730</td>\n",
       "      <td>Pharmacy</td>\n",
       "    </tr>\n",
       "    <tr>\n",
       "      <th>2</th>\n",
       "      <td>Bellavista</td>\n",
       "      <td>-2.881293</td>\n",
       "      <td>-79.005168</td>\n",
       "      <td>kuna hotel</td>\n",
       "      <td>52fcde73498e44aedeafa615</td>\n",
       "      <td>-2.884541</td>\n",
       "      <td>-79.002080</td>\n",
       "      <td>Hotel</td>\n",
       "    </tr>\n",
       "    <tr>\n",
       "      <th>3</th>\n",
       "      <td>Bellavista</td>\n",
       "      <td>-2.881293</td>\n",
       "      <td>-79.005168</td>\n",
       "      <td>Viko</td>\n",
       "      <td>505f554fe4b018ec7b9fd22b</td>\n",
       "      <td>-2.886314</td>\n",
       "      <td>-79.008958</td>\n",
       "      <td>Fried Chicken Joint</td>\n",
       "    </tr>\n",
       "    <tr>\n",
       "      <th>4</th>\n",
       "      <td>Bellavista</td>\n",
       "      <td>-2.881293</td>\n",
       "      <td>-79.005168</td>\n",
       "      <td>Super949</td>\n",
       "      <td>4b9bbdecf964a520fa1f36e3</td>\n",
       "      <td>-2.889759</td>\n",
       "      <td>-79.002753</td>\n",
       "      <td>Music Venue</td>\n",
       "    </tr>\n",
       "  </tbody>\n",
       "</table>\n",
       "</div>"
      ],
      "text/plain": [
       "    Parroquia  Parroquia Latitude  Parroquia Longitude  \\\n",
       "0  Bellavista           -2.881293           -79.005168   \n",
       "1  Bellavista           -2.881293           -79.005168   \n",
       "2  Bellavista           -2.881293           -79.005168   \n",
       "3  Bellavista           -2.881293           -79.005168   \n",
       "4  Bellavista           -2.881293           -79.005168   \n",
       "\n",
       "                         Venue                        Id  Latitude  Longitude  \\\n",
       "0  Picantes De Leo, Bellavista  50784860e4b06b24d94043af -2.888823 -79.006569   \n",
       "1                       Fybeca  4f660ce2e4b08b4770d62b31 -2.883704 -79.003730   \n",
       "2                   kuna hotel  52fcde73498e44aedeafa615 -2.884541 -79.002080   \n",
       "3                         Viko  505f554fe4b018ec7b9fd22b -2.886314 -79.008958   \n",
       "4                     Super949  4b9bbdecf964a520fa1f36e3 -2.889759 -79.002753   \n",
       "\n",
       "              Category  \n",
       "0   Seafood Restaurant  \n",
       "1             Pharmacy  \n",
       "2                Hotel  \n",
       "3  Fried Chicken Joint  \n",
       "4          Music Venue  "
      ]
     },
     "execution_count": 10,
     "metadata": {},
     "output_type": "execute_result"
    }
   ],
   "source": [
    "cuenca_venues.head()"
   ]
  },
  {
   "cell_type": "code",
   "execution_count": 11,
   "metadata": {},
   "outputs": [
    {
     "data": {
      "text/plain": [
       "(181, 8)"
      ]
     },
     "execution_count": 11,
     "metadata": {},
     "output_type": "execute_result"
    }
   ],
   "source": [
    "cuenca_venues.shape"
   ]
  },
  {
   "cell_type": "markdown",
   "metadata": {},
   "source": [
    "Filter places related to the food business exclusively"
   ]
  },
  {
   "cell_type": "code",
   "execution_count": 12,
   "metadata": {},
   "outputs": [],
   "source": [
    "cuenca_food = cuenca_venues[cuenca_venues['Category'].str.contains('Restaurant|Joint|BBQ|Food|Place|Bar|Steakhouse|Pub|Bistro|Gastro|caf|coff')].reset_index(drop=True)"
   ]
  },
  {
   "cell_type": "code",
   "execution_count": 13,
   "metadata": {},
   "outputs": [
    {
     "data": {
      "text/html": [
       "<div>\n",
       "<style scoped>\n",
       "    .dataframe tbody tr th:only-of-type {\n",
       "        vertical-align: middle;\n",
       "    }\n",
       "\n",
       "    .dataframe tbody tr th {\n",
       "        vertical-align: top;\n",
       "    }\n",
       "\n",
       "    .dataframe thead th {\n",
       "        text-align: right;\n",
       "    }\n",
       "</style>\n",
       "<table border=\"1\" class=\"dataframe\">\n",
       "  <thead>\n",
       "    <tr style=\"text-align: right;\">\n",
       "      <th></th>\n",
       "      <th>Parroquia</th>\n",
       "      <th>Venue</th>\n",
       "      <th>Id</th>\n",
       "      <th>Latitude</th>\n",
       "      <th>Longitude</th>\n",
       "      <th>Category</th>\n",
       "    </tr>\n",
       "  </thead>\n",
       "  <tbody>\n",
       "    <tr>\n",
       "      <th>0</th>\n",
       "      <td>Bellavista</td>\n",
       "      <td>Picantes De Leo, Bellavista</td>\n",
       "      <td>50784860e4b06b24d94043af</td>\n",
       "      <td>-2.888823</td>\n",
       "      <td>-79.006569</td>\n",
       "      <td>Seafood Restaurant</td>\n",
       "    </tr>\n",
       "    <tr>\n",
       "      <th>1</th>\n",
       "      <td>Bellavista</td>\n",
       "      <td>Viko</td>\n",
       "      <td>505f554fe4b018ec7b9fd22b</td>\n",
       "      <td>-2.886314</td>\n",
       "      <td>-79.008958</td>\n",
       "      <td>Fried Chicken Joint</td>\n",
       "    </tr>\n",
       "    <tr>\n",
       "      <th>2</th>\n",
       "      <td>San Sebastián</td>\n",
       "      <td>El Rincon De Lucas</td>\n",
       "      <td>4e6eb68eb9933190ed2dd97c</td>\n",
       "      <td>-2.889131</td>\n",
       "      <td>-79.033295</td>\n",
       "      <td>Hot Dog Joint</td>\n",
       "    </tr>\n",
       "    <tr>\n",
       "      <th>3</th>\n",
       "      <td>San Sebastián</td>\n",
       "      <td>Unagi Teppanyaki &amp; sushibar</td>\n",
       "      <td>4f1b7702e4b08382322fb6c2</td>\n",
       "      <td>-2.891627</td>\n",
       "      <td>-79.019083</td>\n",
       "      <td>Sushi Restaurant</td>\n",
       "    </tr>\n",
       "    <tr>\n",
       "      <th>4</th>\n",
       "      <td>San Sebastián</td>\n",
       "      <td>BQ Sport</td>\n",
       "      <td>4df304f6d4c01ff6b2eb0650</td>\n",
       "      <td>-2.891020</td>\n",
       "      <td>-79.026107</td>\n",
       "      <td>Restaurant</td>\n",
       "    </tr>\n",
       "  </tbody>\n",
       "</table>\n",
       "</div>"
      ],
      "text/plain": [
       "       Parroquia                        Venue                        Id  \\\n",
       "0     Bellavista  Picantes De Leo, Bellavista  50784860e4b06b24d94043af   \n",
       "1     Bellavista                         Viko  505f554fe4b018ec7b9fd22b   \n",
       "2  San Sebastián           El Rincon De Lucas  4e6eb68eb9933190ed2dd97c   \n",
       "3  San Sebastián  Unagi Teppanyaki & sushibar  4f1b7702e4b08382322fb6c2   \n",
       "4  San Sebastián                     BQ Sport  4df304f6d4c01ff6b2eb0650   \n",
       "\n",
       "   Latitude  Longitude             Category  \n",
       "0 -2.888823 -79.006569   Seafood Restaurant  \n",
       "1 -2.886314 -79.008958  Fried Chicken Joint  \n",
       "2 -2.889131 -79.033295        Hot Dog Joint  \n",
       "3 -2.891627 -79.019083     Sushi Restaurant  \n",
       "4 -2.891020 -79.026107           Restaurant  "
      ]
     },
     "execution_count": 13,
     "metadata": {},
     "output_type": "execute_result"
    }
   ],
   "source": [
    "cuenca_food.drop(['Parroquia Latitude','Parroquia Longitude'], axis=1, inplace=True)\n",
    "cuenca_food.head()"
   ]
  },
  {
   "cell_type": "code",
   "execution_count": 14,
   "metadata": {},
   "outputs": [
    {
     "data": {
      "text/plain": [
       "(85, 6)"
      ]
     },
     "execution_count": 14,
     "metadata": {},
     "output_type": "execute_result"
    }
   ],
   "source": [
    "cuenca_food.shape"
   ]
  },
  {
   "cell_type": "markdown",
   "metadata": {},
   "source": [
    "Function to obtain the rating of each food business place"
   ]
  },
  {
   "cell_type": "code",
   "execution_count": 15,
   "metadata": {},
   "outputs": [],
   "source": [
    "def getRatingVenues(n_venue, v_id):\n",
    "    \n",
    "    rvenues_list=[]\n",
    "    for name, venue_id in zip(n_venue, v_id):\n",
    "        #print(name)\n",
    "        \n",
    "        try:\n",
    "            url = 'https://api.foursquare.com/v2/venues/{}?client_id={}&client_secret={}&v={}'.format(\n",
    "            venue_id, CLIENT_ID, CLIENT_SECRET, VERSION)\n",
    "            \n",
    "            results = requests.get(url).json()\n",
    "            rat = results['response']['venue']['rating']\n",
    "        except:\n",
    "            rat = 'n/a'\n",
    "            \n",
    "        rvenues_list.append([(name, venue_id,\n",
    "        rat)])\n",
    "        \n",
    "    rating_venues = pd.DataFrame([item for rvenue_list in rvenues_list for item in rvenue_list])\n",
    "    rating_venues.columns = ['Venue','Id','Rating']\n",
    "    \n",
    "    return(rating_venues)"
   ]
  },
  {
   "cell_type": "markdown",
   "metadata": {},
   "source": [
    "Process the function using the Venue and Id parameters."
   ]
  },
  {
   "cell_type": "code",
   "execution_count": 16,
   "metadata": {},
   "outputs": [],
   "source": [
    "rcuenca_food = getRatingVenues(n_venue=cuenca_food['Venue'],v_id=cuenca_food['Id'])"
   ]
  },
  {
   "cell_type": "markdown",
   "metadata": {},
   "source": [
    "As we can see, some of the places are not yet rated, so we must apply some solution for these values."
   ]
  },
  {
   "cell_type": "code",
   "execution_count": 17,
   "metadata": {},
   "outputs": [
    {
     "data": {
      "text/html": [
       "<div>\n",
       "<style scoped>\n",
       "    .dataframe tbody tr th:only-of-type {\n",
       "        vertical-align: middle;\n",
       "    }\n",
       "\n",
       "    .dataframe tbody tr th {\n",
       "        vertical-align: top;\n",
       "    }\n",
       "\n",
       "    .dataframe thead th {\n",
       "        text-align: right;\n",
       "    }\n",
       "</style>\n",
       "<table border=\"1\" class=\"dataframe\">\n",
       "  <thead>\n",
       "    <tr style=\"text-align: right;\">\n",
       "      <th></th>\n",
       "      <th>Venue</th>\n",
       "      <th>Id</th>\n",
       "      <th>Rating</th>\n",
       "    </tr>\n",
       "  </thead>\n",
       "  <tbody>\n",
       "    <tr>\n",
       "      <th>0</th>\n",
       "      <td>Picantes De Leo, Bellavista</td>\n",
       "      <td>50784860e4b06b24d94043af</td>\n",
       "      <td>7.4</td>\n",
       "    </tr>\n",
       "    <tr>\n",
       "      <th>1</th>\n",
       "      <td>Viko</td>\n",
       "      <td>505f554fe4b018ec7b9fd22b</td>\n",
       "      <td>n/a</td>\n",
       "    </tr>\n",
       "    <tr>\n",
       "      <th>2</th>\n",
       "      <td>El Rincon De Lucas</td>\n",
       "      <td>4e6eb68eb9933190ed2dd97c</td>\n",
       "      <td>8.2</td>\n",
       "    </tr>\n",
       "    <tr>\n",
       "      <th>3</th>\n",
       "      <td>Unagi Teppanyaki &amp; sushibar</td>\n",
       "      <td>4f1b7702e4b08382322fb6c2</td>\n",
       "      <td>7.1</td>\n",
       "    </tr>\n",
       "    <tr>\n",
       "      <th>4</th>\n",
       "      <td>BQ Sport</td>\n",
       "      <td>4df304f6d4c01ff6b2eb0650</td>\n",
       "      <td>6.3</td>\n",
       "    </tr>\n",
       "  </tbody>\n",
       "</table>\n",
       "</div>"
      ],
      "text/plain": [
       "                         Venue                        Id Rating\n",
       "0  Picantes De Leo, Bellavista  50784860e4b06b24d94043af    7.4\n",
       "1                         Viko  505f554fe4b018ec7b9fd22b    n/a\n",
       "2           El Rincon De Lucas  4e6eb68eb9933190ed2dd97c    8.2\n",
       "3  Unagi Teppanyaki & sushibar  4f1b7702e4b08382322fb6c2    7.1\n",
       "4                     BQ Sport  4df304f6d4c01ff6b2eb0650    6.3"
      ]
     },
     "execution_count": 17,
     "metadata": {},
     "output_type": "execute_result"
    }
   ],
   "source": [
    "rcuenca_food.head()"
   ]
  },
  {
   "cell_type": "code",
   "execution_count": 18,
   "metadata": {},
   "outputs": [
    {
     "data": {
      "text/plain": [
       "(85, 3)"
      ]
     },
     "execution_count": 18,
     "metadata": {},
     "output_type": "execute_result"
    }
   ],
   "source": [
    "rcuenca_food.shape"
   ]
  },
  {
   "cell_type": "markdown",
   "metadata": {},
   "source": [
    "Proceed to merge the dataframe with the new rate information into the existing dataframe.  The result is a dataframe with seven columns."
   ]
  },
  {
   "cell_type": "code",
   "execution_count": 19,
   "metadata": {},
   "outputs": [
    {
     "data": {
      "text/plain": [
       "(85, 7)"
      ]
     },
     "execution_count": 19,
     "metadata": {},
     "output_type": "execute_result"
    }
   ],
   "source": [
    "cuenca_food = pd.merge(cuenca_food,rcuenca_food[['Id','Rating']],on='Id', how='left')\n",
    "cuenca_food.shape"
   ]
  },
  {
   "cell_type": "markdown",
   "metadata": {},
   "source": [
    "Replace the n/a value for a numpy nan value"
   ]
  },
  {
   "cell_type": "code",
   "execution_count": 20,
   "metadata": {},
   "outputs": [],
   "source": [
    "cuenca_food.replace(\"n/a\", np.nan, inplace = True)"
   ]
  },
  {
   "cell_type": "markdown",
   "metadata": {},
   "source": [
    "And now replace the numpy nan value with the mean of the Rating column "
   ]
  },
  {
   "cell_type": "code",
   "execution_count": 21,
   "metadata": {},
   "outputs": [],
   "source": [
    "avg_Rating=cuenca_food['Rating'].astype('float').mean(axis=0)\n",
    "cuenca_food['Rating'].replace(np.nan, round(avg_Rating, 1), inplace=True)"
   ]
  },
  {
   "cell_type": "markdown",
   "metadata": {},
   "source": [
    "Now all the places have a rating value"
   ]
  },
  {
   "cell_type": "code",
   "execution_count": 22,
   "metadata": {},
   "outputs": [
    {
     "data": {
      "text/html": [
       "<div>\n",
       "<style scoped>\n",
       "    .dataframe tbody tr th:only-of-type {\n",
       "        vertical-align: middle;\n",
       "    }\n",
       "\n",
       "    .dataframe tbody tr th {\n",
       "        vertical-align: top;\n",
       "    }\n",
       "\n",
       "    .dataframe thead th {\n",
       "        text-align: right;\n",
       "    }\n",
       "</style>\n",
       "<table border=\"1\" class=\"dataframe\">\n",
       "  <thead>\n",
       "    <tr style=\"text-align: right;\">\n",
       "      <th></th>\n",
       "      <th>Parroquia</th>\n",
       "      <th>Venue</th>\n",
       "      <th>Id</th>\n",
       "      <th>Latitude</th>\n",
       "      <th>Longitude</th>\n",
       "      <th>Category</th>\n",
       "      <th>Rating</th>\n",
       "    </tr>\n",
       "  </thead>\n",
       "  <tbody>\n",
       "    <tr>\n",
       "      <th>0</th>\n",
       "      <td>Bellavista</td>\n",
       "      <td>Picantes De Leo, Bellavista</td>\n",
       "      <td>50784860e4b06b24d94043af</td>\n",
       "      <td>-2.888823</td>\n",
       "      <td>-79.006569</td>\n",
       "      <td>Seafood Restaurant</td>\n",
       "      <td>7.4</td>\n",
       "    </tr>\n",
       "    <tr>\n",
       "      <th>1</th>\n",
       "      <td>Bellavista</td>\n",
       "      <td>Viko</td>\n",
       "      <td>505f554fe4b018ec7b9fd22b</td>\n",
       "      <td>-2.886314</td>\n",
       "      <td>-79.008958</td>\n",
       "      <td>Fried Chicken Joint</td>\n",
       "      <td>7.5</td>\n",
       "    </tr>\n",
       "    <tr>\n",
       "      <th>2</th>\n",
       "      <td>San Sebastián</td>\n",
       "      <td>El Rincon De Lucas</td>\n",
       "      <td>4e6eb68eb9933190ed2dd97c</td>\n",
       "      <td>-2.889131</td>\n",
       "      <td>-79.033295</td>\n",
       "      <td>Hot Dog Joint</td>\n",
       "      <td>8.2</td>\n",
       "    </tr>\n",
       "    <tr>\n",
       "      <th>3</th>\n",
       "      <td>San Sebastián</td>\n",
       "      <td>Unagi Teppanyaki &amp; sushibar</td>\n",
       "      <td>4f1b7702e4b08382322fb6c2</td>\n",
       "      <td>-2.891627</td>\n",
       "      <td>-79.019083</td>\n",
       "      <td>Sushi Restaurant</td>\n",
       "      <td>7.1</td>\n",
       "    </tr>\n",
       "    <tr>\n",
       "      <th>4</th>\n",
       "      <td>San Sebastián</td>\n",
       "      <td>BQ Sport</td>\n",
       "      <td>4df304f6d4c01ff6b2eb0650</td>\n",
       "      <td>-2.891020</td>\n",
       "      <td>-79.026107</td>\n",
       "      <td>Restaurant</td>\n",
       "      <td>6.3</td>\n",
       "    </tr>\n",
       "  </tbody>\n",
       "</table>\n",
       "</div>"
      ],
      "text/plain": [
       "       Parroquia                        Venue                        Id  \\\n",
       "0     Bellavista  Picantes De Leo, Bellavista  50784860e4b06b24d94043af   \n",
       "1     Bellavista                         Viko  505f554fe4b018ec7b9fd22b   \n",
       "2  San Sebastián           El Rincon De Lucas  4e6eb68eb9933190ed2dd97c   \n",
       "3  San Sebastián  Unagi Teppanyaki & sushibar  4f1b7702e4b08382322fb6c2   \n",
       "4  San Sebastián                     BQ Sport  4df304f6d4c01ff6b2eb0650   \n",
       "\n",
       "   Latitude  Longitude             Category  Rating  \n",
       "0 -2.888823 -79.006569   Seafood Restaurant     7.4  \n",
       "1 -2.886314 -79.008958  Fried Chicken Joint     7.5  \n",
       "2 -2.889131 -79.033295        Hot Dog Joint     8.2  \n",
       "3 -2.891627 -79.019083     Sushi Restaurant     7.1  \n",
       "4 -2.891020 -79.026107           Restaurant     6.3  "
      ]
     },
     "execution_count": 22,
     "metadata": {},
     "output_type": "execute_result"
    }
   ],
   "source": [
    "cuenca_food.head()"
   ]
  },
  {
   "cell_type": "code",
   "execution_count": 24,
   "metadata": {},
   "outputs": [],
   "source": [
    "cuenca_food.to_csv('cuenca_food.csv')"
   ]
  },
  {
   "cell_type": "markdown",
   "metadata": {},
   "source": [
    "Obtain the geo position for the Cuenca City to create a folium map, using all the venues with the corresponding Rating, Category, Vanue name, latitude and longitude."
   ]
  },
  {
   "cell_type": "code",
   "execution_count": 22,
   "metadata": {},
   "outputs": [],
   "source": [
    "address = 'Cuenca, Azuay, Ecuador'\n",
    "geolocator = Nominatim(user_agent=\"foursquare_agent\")\n",
    "location = geolocator.geocode(address)\n",
    "latitude = location.latitude\n",
    "longitude = location.longitude"
   ]
  },
  {
   "cell_type": "code",
   "execution_count": 23,
   "metadata": {},
   "outputs": [
    {
     "data": {
      "text/html": [
       "<div style=\"width:100%;\"><div style=\"position:relative;width:100%;height:0;padding-bottom:60%;\"><iframe src=\"about:blank\" style=\"position:absolute;width:100%;height:100%;left:0;top:0;border:none !important;\" data-html=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 onload=\"this.contentDocument.open();this.contentDocument.write(atob(this.getAttribute('data-html')));this.contentDocument.close();\" allowfullscreen webkitallowfullscreen mozallowfullscreen></iframe></div></div>"
      ],
      "text/plain": [
       "<folium.folium.Map at 0x7fd716674198>"
      ]
     },
     "execution_count": 23,
     "metadata": {},
     "output_type": "execute_result"
    }
   ],
   "source": [
    "# create map\n",
    "map_cuenca = folium.Map(location=[latitude, longitude], zoom_start=14)\n",
    "\n",
    "# add markers to the map\n",
    "for lat, lng, label, categorie, rating in zip(cuenca_food['Latitude'], \n",
    "                                              cuenca_food['Longitude'], \n",
    "                                              cuenca_food['Venue'], \n",
    "                                              cuenca_food['Category'],\n",
    "                                              cuenca_food['Rating']):\n",
    "    label = folium.Popup(str(label) + ' Categoria: '+ str(categorie) + ' Rating: '+ str(rating), parse_html=True)\n",
    "    folium.CircleMarker(\n",
    "        [lat, lng],\n",
    "        radius=5,\n",
    "        popup=label,\n",
    "        color='blue',\n",
    "        fill=True,\n",
    "        fill_color='#3186cc',\n",
    "        fill_opacity=0.7).add_to(map_cuenca)\n",
    "       \n",
    "map_cuenca"
   ]
  },
  {
   "cell_type": "markdown",
   "metadata": {},
   "source": [
    "Define five clusters to group the venues by rating and map them."
   ]
  },
  {
   "cell_type": "code",
   "execution_count": 24,
   "metadata": {},
   "outputs": [],
   "source": [
    "kclusters = 5\n",
    "cuenca_food_clustering = cuenca_food.drop(['Parroquia','Venue','Id','Latitude','Longitude','Category'], 1)\n",
    "kmeans = KMeans(n_clusters=kclusters, random_state=0).fit(cuenca_food_clustering)\n",
    "kmeans.labels_[0:10]\n",
    "cuenca_food.insert(0, 'Cluster Labels', kmeans.labels_)"
   ]
  },
  {
   "cell_type": "code",
   "execution_count": 26,
   "metadata": {},
   "outputs": [
    {
     "data": {
      "text/html": [
       "<div style=\"width:100%;\"><div style=\"position:relative;width:100%;height:0;padding-bottom:60%;\"><iframe src=\"about:blank\" style=\"position:absolute;width:100%;height:100%;left:0;top:0;border:none !important;\" data-html=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 onload=\"this.contentDocument.open();this.contentDocument.write(atob(this.getAttribute('data-html')));this.contentDocument.close();\" allowfullscreen webkitallowfullscreen mozallowfullscreen></iframe></div></div>"
      ],
      "text/plain": [
       "<folium.folium.Map at 0x7fd715ef8c18>"
      ]
     },
     "execution_count": 26,
     "metadata": {},
     "output_type": "execute_result"
    }
   ],
   "source": [
    "map_cuenca_cluster = folium.Map(location=[latitude, longitude], zoom_start=14)\n",
    "\n",
    "# set color scheme\n",
    "x = np.arange(kclusters)\n",
    "ys = [i + x + (i*x)**2 for i in range(kclusters)]\n",
    "colors_array = cm.rainbow(np.linspace(0, 1, len(ys)))\n",
    "rainbow = [colors.rgb2hex(i) for i in colors_array]\n",
    "\n",
    "# add markers to the map\n",
    "markers_colors = []\n",
    "for lat, lng, label, categorie, rating, cluster in zip(cuenca_food['Latitude'], \n",
    "                                              cuenca_food['Longitude'], \n",
    "                                              cuenca_food['Venue'], \n",
    "                                              cuenca_food['Category'],\n",
    "                                              cuenca_food['Rating'],\n",
    "                                              cuenca_food['Cluster Labels']):\n",
    "    label = folium.Popup(str(label) + ' Categoria: '+ str(categorie) + ' Rating: '+ str(rating)+ ' Cluster: '+str(cluster), parse_html=True)\n",
    "    folium.CircleMarker(\n",
    "        [lat, lng],\n",
    "        radius=5,\n",
    "        popup=label,\n",
    "        color=rainbow[cluster-1],\n",
    "        fill=True,\n",
    "        fill_color=rainbow[cluster-1],\n",
    "        fill_opacity=0.7).add_to(map_cuenca_cluster)\n",
    "       \n",
    "map_cuenca_cluster"
   ]
  },
  {
   "cell_type": "markdown",
   "metadata": {},
   "source": [
    "The clusters are grouping the food venues by the rating, then we use the cluster number 3 wich have the most higher qualification."
   ]
  },
  {
   "cell_type": "code",
   "execution_count": 27,
   "metadata": {},
   "outputs": [
    {
     "data": {
      "text/html": [
       "<div>\n",
       "<style scoped>\n",
       "    .dataframe tbody tr th:only-of-type {\n",
       "        vertical-align: middle;\n",
       "    }\n",
       "\n",
       "    .dataframe tbody tr th {\n",
       "        vertical-align: top;\n",
       "    }\n",
       "\n",
       "    .dataframe thead th {\n",
       "        text-align: right;\n",
       "    }\n",
       "</style>\n",
       "<table border=\"1\" class=\"dataframe\">\n",
       "  <thead>\n",
       "    <tr style=\"text-align: right;\">\n",
       "      <th></th>\n",
       "      <th>Venue</th>\n",
       "      <th>Latitude</th>\n",
       "      <th>Longitude</th>\n",
       "      <th>Category</th>\n",
       "      <th>Rating</th>\n",
       "    </tr>\n",
       "  </thead>\n",
       "  <tbody>\n",
       "    <tr>\n",
       "      <th>2</th>\n",
       "      <td>El Rincon De Lucas</td>\n",
       "      <td>-2.889131</td>\n",
       "      <td>-79.033295</td>\n",
       "      <td>Hot Dog Joint</td>\n",
       "      <td>8.2</td>\n",
       "    </tr>\n",
       "    <tr>\n",
       "      <th>7</th>\n",
       "      <td>Restaurante El Campo</td>\n",
       "      <td>-2.895165</td>\n",
       "      <td>-79.036770</td>\n",
       "      <td>Restaurant</td>\n",
       "      <td>7.8</td>\n",
       "    </tr>\n",
       "    <tr>\n",
       "      <th>10</th>\n",
       "      <td>Rancho's Burger</td>\n",
       "      <td>-2.903867</td>\n",
       "      <td>-79.013541</td>\n",
       "      <td>Burger Joint</td>\n",
       "      <td>8.2</td>\n",
       "    </tr>\n",
       "    <tr>\n",
       "      <th>11</th>\n",
       "      <td>La Fornace</td>\n",
       "      <td>-2.898287</td>\n",
       "      <td>-79.017990</td>\n",
       "      <td>Italian Restaurant</td>\n",
       "      <td>8.1</td>\n",
       "    </tr>\n",
       "    <tr>\n",
       "      <th>16</th>\n",
       "      <td>Esquina De Las Artes</td>\n",
       "      <td>-2.901027</td>\n",
       "      <td>-79.008073</td>\n",
       "      <td>Latin American Restaurant</td>\n",
       "      <td>8.1</td>\n",
       "    </tr>\n",
       "    <tr>\n",
       "      <th>29</th>\n",
       "      <td>Guajibamba</td>\n",
       "      <td>-2.893709</td>\n",
       "      <td>-79.003156</td>\n",
       "      <td>Latin American Restaurant</td>\n",
       "      <td>8.0</td>\n",
       "    </tr>\n",
       "    <tr>\n",
       "      <th>31</th>\n",
       "      <td>Bauhouse Hostel &amp; Bar</td>\n",
       "      <td>-2.895530</td>\n",
       "      <td>-79.004594</td>\n",
       "      <td>Bar</td>\n",
       "      <td>7.9</td>\n",
       "    </tr>\n",
       "    <tr>\n",
       "      <th>32</th>\n",
       "      <td>Trattoria Novecento</td>\n",
       "      <td>-2.897890</td>\n",
       "      <td>-79.002783</td>\n",
       "      <td>Italian Restaurant</td>\n",
       "      <td>7.9</td>\n",
       "    </tr>\n",
       "    <tr>\n",
       "      <th>36</th>\n",
       "      <td>Tiestos Cafe Restaurante</td>\n",
       "      <td>-2.900058</td>\n",
       "      <td>-79.003521</td>\n",
       "      <td>Steakhouse</td>\n",
       "      <td>8.1</td>\n",
       "    </tr>\n",
       "    <tr>\n",
       "      <th>39</th>\n",
       "      <td>Jazz Society Café</td>\n",
       "      <td>-2.900053</td>\n",
       "      <td>-79.004552</td>\n",
       "      <td>Bar</td>\n",
       "      <td>7.8</td>\n",
       "    </tr>\n",
       "    <tr>\n",
       "      <th>43</th>\n",
       "      <td>Red Crab</td>\n",
       "      <td>-2.910577</td>\n",
       "      <td>-79.001935</td>\n",
       "      <td>Seafood Restaurant</td>\n",
       "      <td>8.3</td>\n",
       "    </tr>\n",
       "    <tr>\n",
       "      <th>51</th>\n",
       "      <td>La Esquina</td>\n",
       "      <td>-2.902510</td>\n",
       "      <td>-79.002855</td>\n",
       "      <td>South American Restaurant</td>\n",
       "      <td>8.3</td>\n",
       "    </tr>\n",
       "    <tr>\n",
       "      <th>53</th>\n",
       "      <td>Sanduches de Doña piedad</td>\n",
       "      <td>-2.901582</td>\n",
       "      <td>-78.997878</td>\n",
       "      <td>Sandwich Place</td>\n",
       "      <td>7.8</td>\n",
       "    </tr>\n",
       "    <tr>\n",
       "      <th>55</th>\n",
       "      <td>Tres Estrellas</td>\n",
       "      <td>-2.905100</td>\n",
       "      <td>-78.998116</td>\n",
       "      <td>Restaurant</td>\n",
       "      <td>8.2</td>\n",
       "    </tr>\n",
       "    <tr>\n",
       "      <th>58</th>\n",
       "      <td>A Pedir De Boca</td>\n",
       "      <td>-2.900564</td>\n",
       "      <td>-79.005420</td>\n",
       "      <td>Restaurant</td>\n",
       "      <td>8.2</td>\n",
       "    </tr>\n",
       "    <tr>\n",
       "      <th>60</th>\n",
       "      <td>Subway</td>\n",
       "      <td>-2.905884</td>\n",
       "      <td>-79.002547</td>\n",
       "      <td>Sandwich Place</td>\n",
       "      <td>7.9</td>\n",
       "    </tr>\n",
       "    <tr>\n",
       "      <th>66</th>\n",
       "      <td>Zircus</td>\n",
       "      <td>-2.905671</td>\n",
       "      <td>-79.006314</td>\n",
       "      <td>Restaurant</td>\n",
       "      <td>7.8</td>\n",
       "    </tr>\n",
       "    <tr>\n",
       "      <th>73</th>\n",
       "      <td>El Carbonazo</td>\n",
       "      <td>-2.902900</td>\n",
       "      <td>-78.988558</td>\n",
       "      <td>BBQ Joint</td>\n",
       "      <td>7.9</td>\n",
       "    </tr>\n",
       "    <tr>\n",
       "      <th>77</th>\n",
       "      <td>Tacanijo</td>\n",
       "      <td>-2.883173</td>\n",
       "      <td>-78.987985</td>\n",
       "      <td>Mexican Restaurant</td>\n",
       "      <td>8.0</td>\n",
       "    </tr>\n",
       "  </tbody>\n",
       "</table>\n",
       "</div>"
      ],
      "text/plain": [
       "                       Venue  Latitude  Longitude                   Category  \\\n",
       "2         El Rincon De Lucas -2.889131 -79.033295              Hot Dog Joint   \n",
       "7       Restaurante El Campo -2.895165 -79.036770                 Restaurant   \n",
       "10           Rancho's Burger -2.903867 -79.013541               Burger Joint   \n",
       "11                La Fornace -2.898287 -79.017990         Italian Restaurant   \n",
       "16      Esquina De Las Artes -2.901027 -79.008073  Latin American Restaurant   \n",
       "29                Guajibamba -2.893709 -79.003156  Latin American Restaurant   \n",
       "31     Bauhouse Hostel & Bar -2.895530 -79.004594                        Bar   \n",
       "32       Trattoria Novecento -2.897890 -79.002783         Italian Restaurant   \n",
       "36  Tiestos Cafe Restaurante -2.900058 -79.003521                 Steakhouse   \n",
       "39         Jazz Society Café -2.900053 -79.004552                        Bar   \n",
       "43                  Red Crab -2.910577 -79.001935         Seafood Restaurant   \n",
       "51                La Esquina -2.902510 -79.002855  South American Restaurant   \n",
       "53  Sanduches de Doña piedad -2.901582 -78.997878             Sandwich Place   \n",
       "55            Tres Estrellas -2.905100 -78.998116                 Restaurant   \n",
       "58           A Pedir De Boca -2.900564 -79.005420                 Restaurant   \n",
       "60                    Subway -2.905884 -79.002547             Sandwich Place   \n",
       "66                    Zircus -2.905671 -79.006314                 Restaurant   \n",
       "73              El Carbonazo -2.902900 -78.988558                  BBQ Joint   \n",
       "77                  Tacanijo -2.883173 -78.987985         Mexican Restaurant   \n",
       "\n",
       "    Rating  \n",
       "2      8.2  \n",
       "7      7.8  \n",
       "10     8.2  \n",
       "11     8.1  \n",
       "16     8.1  \n",
       "29     8.0  \n",
       "31     7.9  \n",
       "32     7.9  \n",
       "36     8.1  \n",
       "39     7.8  \n",
       "43     8.3  \n",
       "51     8.3  \n",
       "53     7.8  \n",
       "55     8.2  \n",
       "58     8.2  \n",
       "60     7.9  \n",
       "66     7.8  \n",
       "73     7.9  \n",
       "77     8.0  "
      ]
     },
     "execution_count": 27,
     "metadata": {},
     "output_type": "execute_result"
    }
   ],
   "source": [
    "cuenca_food.loc[cuenca_food['Cluster Labels'] == 0, cuenca_food.columns[[2] + list(range(4, cuenca_food.shape[1]))]]"
   ]
  },
  {
   "cell_type": "code",
   "execution_count": 28,
   "metadata": {},
   "outputs": [
    {
     "data": {
      "text/html": [
       "<div>\n",
       "<style scoped>\n",
       "    .dataframe tbody tr th:only-of-type {\n",
       "        vertical-align: middle;\n",
       "    }\n",
       "\n",
       "    .dataframe tbody tr th {\n",
       "        vertical-align: top;\n",
       "    }\n",
       "\n",
       "    .dataframe thead th {\n",
       "        text-align: right;\n",
       "    }\n",
       "</style>\n",
       "<table border=\"1\" class=\"dataframe\">\n",
       "  <thead>\n",
       "    <tr style=\"text-align: right;\">\n",
       "      <th></th>\n",
       "      <th>Venue</th>\n",
       "      <th>Latitude</th>\n",
       "      <th>Longitude</th>\n",
       "      <th>Category</th>\n",
       "      <th>Rating</th>\n",
       "    </tr>\n",
       "  </thead>\n",
       "  <tbody>\n",
       "    <tr>\n",
       "      <th>3</th>\n",
       "      <td>Unagi Teppanyaki &amp; sushibar</td>\n",
       "      <td>-2.891627</td>\n",
       "      <td>-79.019083</td>\n",
       "      <td>Sushi Restaurant</td>\n",
       "      <td>7.1</td>\n",
       "    </tr>\n",
       "    <tr>\n",
       "      <th>8</th>\n",
       "      <td>Cristo del Consuelo</td>\n",
       "      <td>-2.895363</td>\n",
       "      <td>-79.035703</td>\n",
       "      <td>Food</td>\n",
       "      <td>7.2</td>\n",
       "    </tr>\n",
       "    <tr>\n",
       "      <th>9</th>\n",
       "      <td>la parrilla de hector</td>\n",
       "      <td>-2.921660</td>\n",
       "      <td>-79.022988</td>\n",
       "      <td>BBQ Joint</td>\n",
       "      <td>6.7</td>\n",
       "    </tr>\n",
       "    <tr>\n",
       "      <th>18</th>\n",
       "      <td>Habana Vieja</td>\n",
       "      <td>-2.904223</td>\n",
       "      <td>-79.014460</td>\n",
       "      <td>Caribbean Restaurant</td>\n",
       "      <td>7.1</td>\n",
       "    </tr>\n",
       "    <tr>\n",
       "      <th>22</th>\n",
       "      <td>Pappardelle Ristorante</td>\n",
       "      <td>-2.905285</td>\n",
       "      <td>-79.011895</td>\n",
       "      <td>Italian Restaurant</td>\n",
       "      <td>7.1</td>\n",
       "    </tr>\n",
       "    <tr>\n",
       "      <th>23</th>\n",
       "      <td>Miso</td>\n",
       "      <td>-2.904255</td>\n",
       "      <td>-79.008829</td>\n",
       "      <td>Restaurant</td>\n",
       "      <td>7.2</td>\n",
       "    </tr>\n",
       "    <tr>\n",
       "      <th>24</th>\n",
       "      <td>Oro Mar</td>\n",
       "      <td>-2.896173</td>\n",
       "      <td>-79.012350</td>\n",
       "      <td>Seafood Restaurant</td>\n",
       "      <td>7.0</td>\n",
       "    </tr>\n",
       "    <tr>\n",
       "      <th>25</th>\n",
       "      <td>La Parrillada</td>\n",
       "      <td>-2.905594</td>\n",
       "      <td>-79.009499</td>\n",
       "      <td>Steakhouse</td>\n",
       "      <td>6.9</td>\n",
       "    </tr>\n",
       "    <tr>\n",
       "      <th>40</th>\n",
       "      <td>La Pergola</td>\n",
       "      <td>-2.890469</td>\n",
       "      <td>-79.004801</td>\n",
       "      <td>Restaurant</td>\n",
       "      <td>7.1</td>\n",
       "    </tr>\n",
       "    <tr>\n",
       "      <th>41</th>\n",
       "      <td>Pizza House</td>\n",
       "      <td>-2.898667</td>\n",
       "      <td>-78.998710</td>\n",
       "      <td>Pizza Place</td>\n",
       "      <td>7.1</td>\n",
       "    </tr>\n",
       "    <tr>\n",
       "      <th>46</th>\n",
       "      <td>El Carbonazo ***</td>\n",
       "      <td>-2.909890</td>\n",
       "      <td>-79.005890</td>\n",
       "      <td>BBQ Joint</td>\n",
       "      <td>7.1</td>\n",
       "    </tr>\n",
       "    <tr>\n",
       "      <th>48</th>\n",
       "      <td>ROLL.DOT</td>\n",
       "      <td>-2.908911</td>\n",
       "      <td>-79.004476</td>\n",
       "      <td>Sushi Restaurant</td>\n",
       "      <td>6.9</td>\n",
       "    </tr>\n",
       "    <tr>\n",
       "      <th>67</th>\n",
       "      <td>Mayu</td>\n",
       "      <td>-2.902122</td>\n",
       "      <td>-79.004564</td>\n",
       "      <td>Bistro</td>\n",
       "      <td>7.1</td>\n",
       "    </tr>\n",
       "    <tr>\n",
       "      <th>68</th>\n",
       "      <td>Taj Mahal</td>\n",
       "      <td>-2.900905</td>\n",
       "      <td>-79.005585</td>\n",
       "      <td>Indian Restaurant</td>\n",
       "      <td>7.1</td>\n",
       "    </tr>\n",
       "    <tr>\n",
       "      <th>70</th>\n",
       "      <td>Pa Cortarse las Venas</td>\n",
       "      <td>-2.905392</td>\n",
       "      <td>-79.002249</td>\n",
       "      <td>Bar</td>\n",
       "      <td>6.7</td>\n",
       "    </tr>\n",
       "    <tr>\n",
       "      <th>71</th>\n",
       "      <td>Doña Menestra</td>\n",
       "      <td>-2.906400</td>\n",
       "      <td>-79.004956</td>\n",
       "      <td>Latin American Restaurant</td>\n",
       "      <td>6.8</td>\n",
       "    </tr>\n",
       "  </tbody>\n",
       "</table>\n",
       "</div>"
      ],
      "text/plain": [
       "                          Venue  Latitude  Longitude  \\\n",
       "3   Unagi Teppanyaki & sushibar -2.891627 -79.019083   \n",
       "8           Cristo del Consuelo -2.895363 -79.035703   \n",
       "9         la parrilla de hector -2.921660 -79.022988   \n",
       "18                 Habana Vieja -2.904223 -79.014460   \n",
       "22       Pappardelle Ristorante -2.905285 -79.011895   \n",
       "23                         Miso -2.904255 -79.008829   \n",
       "24                      Oro Mar -2.896173 -79.012350   \n",
       "25                La Parrillada -2.905594 -79.009499   \n",
       "40                   La Pergola -2.890469 -79.004801   \n",
       "41                  Pizza House -2.898667 -78.998710   \n",
       "46             El Carbonazo *** -2.909890 -79.005890   \n",
       "48                     ROLL.DOT -2.908911 -79.004476   \n",
       "67                         Mayu -2.902122 -79.004564   \n",
       "68                    Taj Mahal -2.900905 -79.005585   \n",
       "70        Pa Cortarse las Venas -2.905392 -79.002249   \n",
       "71                Doña Menestra -2.906400 -79.004956   \n",
       "\n",
       "                     Category  Rating  \n",
       "3            Sushi Restaurant     7.1  \n",
       "8                        Food     7.2  \n",
       "9                   BBQ Joint     6.7  \n",
       "18       Caribbean Restaurant     7.1  \n",
       "22         Italian Restaurant     7.1  \n",
       "23                 Restaurant     7.2  \n",
       "24         Seafood Restaurant     7.0  \n",
       "25                 Steakhouse     6.9  \n",
       "40                 Restaurant     7.1  \n",
       "41                Pizza Place     7.1  \n",
       "46                  BBQ Joint     7.1  \n",
       "48           Sushi Restaurant     6.9  \n",
       "67                     Bistro     7.1  \n",
       "68          Indian Restaurant     7.1  \n",
       "70                        Bar     6.7  \n",
       "71  Latin American Restaurant     6.8  "
      ]
     },
     "execution_count": 28,
     "metadata": {},
     "output_type": "execute_result"
    }
   ],
   "source": [
    "cuenca_food.loc[cuenca_food['Cluster Labels'] == 1, cuenca_food.columns[[2] + list(range(4, cuenca_food.shape[1]))]]"
   ]
  },
  {
   "cell_type": "code",
   "execution_count": 29,
   "metadata": {},
   "outputs": [
    {
     "data": {
      "text/html": [
       "<div>\n",
       "<style scoped>\n",
       "    .dataframe tbody tr th:only-of-type {\n",
       "        vertical-align: middle;\n",
       "    }\n",
       "\n",
       "    .dataframe tbody tr th {\n",
       "        vertical-align: top;\n",
       "    }\n",
       "\n",
       "    .dataframe thead th {\n",
       "        text-align: right;\n",
       "    }\n",
       "</style>\n",
       "<table border=\"1\" class=\"dataframe\">\n",
       "  <thead>\n",
       "    <tr style=\"text-align: right;\">\n",
       "      <th></th>\n",
       "      <th>Venue</th>\n",
       "      <th>Latitude</th>\n",
       "      <th>Longitude</th>\n",
       "      <th>Category</th>\n",
       "      <th>Rating</th>\n",
       "    </tr>\n",
       "  </thead>\n",
       "  <tbody>\n",
       "    <tr>\n",
       "      <th>0</th>\n",
       "      <td>Picantes De Leo, Bellavista</td>\n",
       "      <td>-2.888823</td>\n",
       "      <td>-79.006569</td>\n",
       "      <td>Seafood Restaurant</td>\n",
       "      <td>7.4</td>\n",
       "    </tr>\n",
       "    <tr>\n",
       "      <th>1</th>\n",
       "      <td>Viko</td>\n",
       "      <td>-2.886314</td>\n",
       "      <td>-79.008958</td>\n",
       "      <td>Fried Chicken Joint</td>\n",
       "      <td>7.5</td>\n",
       "    </tr>\n",
       "    <tr>\n",
       "      <th>6</th>\n",
       "      <td>La Taberna</td>\n",
       "      <td>-2.891445</td>\n",
       "      <td>-79.021006</td>\n",
       "      <td>Food &amp; Drink Shop</td>\n",
       "      <td>7.5</td>\n",
       "    </tr>\n",
       "    <tr>\n",
       "      <th>12</th>\n",
       "      <td>Orange Original Food Remigio</td>\n",
       "      <td>-2.902367</td>\n",
       "      <td>-79.013591</td>\n",
       "      <td>Wings Joint</td>\n",
       "      <td>7.5</td>\n",
       "    </tr>\n",
       "    <tr>\n",
       "      <th>13</th>\n",
       "      <td>La Herradura</td>\n",
       "      <td>-2.903816</td>\n",
       "      <td>-79.012646</td>\n",
       "      <td>Steakhouse</td>\n",
       "      <td>7.7</td>\n",
       "    </tr>\n",
       "    <tr>\n",
       "      <th>15</th>\n",
       "      <td>Los Molinos del Batán</td>\n",
       "      <td>-2.897627</td>\n",
       "      <td>-79.012956</td>\n",
       "      <td>Restaurant</td>\n",
       "      <td>7.5</td>\n",
       "    </tr>\n",
       "    <tr>\n",
       "      <th>19</th>\n",
       "      <td>La Parihuela</td>\n",
       "      <td>-2.901783</td>\n",
       "      <td>-79.008563</td>\n",
       "      <td>Seafood Restaurant</td>\n",
       "      <td>7.5</td>\n",
       "    </tr>\n",
       "    <tr>\n",
       "      <th>20</th>\n",
       "      <td>Pizza Hut</td>\n",
       "      <td>-2.906320</td>\n",
       "      <td>-79.009441</td>\n",
       "      <td>Pizza Place</td>\n",
       "      <td>7.7</td>\n",
       "    </tr>\n",
       "    <tr>\n",
       "      <th>21</th>\n",
       "      <td>El Arriero</td>\n",
       "      <td>-2.900275</td>\n",
       "      <td>-79.022117</td>\n",
       "      <td>BBQ Joint</td>\n",
       "      <td>7.4</td>\n",
       "    </tr>\n",
       "    <tr>\n",
       "      <th>28</th>\n",
       "      <td>El Puerto Marisquería</td>\n",
       "      <td>-2.901567</td>\n",
       "      <td>-79.008598</td>\n",
       "      <td>Seafood Restaurant</td>\n",
       "      <td>7.5</td>\n",
       "    </tr>\n",
       "    <tr>\n",
       "      <th>34</th>\n",
       "      <td>Hot Dog del Tropical</td>\n",
       "      <td>-2.894521</td>\n",
       "      <td>-79.005747</td>\n",
       "      <td>Hot Dog Joint</td>\n",
       "      <td>7.7</td>\n",
       "    </tr>\n",
       "    <tr>\n",
       "      <th>35</th>\n",
       "      <td>Café Austria</td>\n",
       "      <td>-2.897694</td>\n",
       "      <td>-79.001984</td>\n",
       "      <td>Austrian Restaurant</td>\n",
       "      <td>7.5</td>\n",
       "    </tr>\n",
       "    <tr>\n",
       "      <th>37</th>\n",
       "      <td>Simon 7-84</td>\n",
       "      <td>-2.896955</td>\n",
       "      <td>-79.003779</td>\n",
       "      <td>Theme Restaurant</td>\n",
       "      <td>7.5</td>\n",
       "    </tr>\n",
       "    <tr>\n",
       "      <th>38</th>\n",
       "      <td>Sabaneta</td>\n",
       "      <td>-2.898535</td>\n",
       "      <td>-79.003311</td>\n",
       "      <td>Gastropub</td>\n",
       "      <td>7.6</td>\n",
       "    </tr>\n",
       "    <tr>\n",
       "      <th>42</th>\n",
       "      <td>La Viña</td>\n",
       "      <td>-2.900130</td>\n",
       "      <td>-79.004437</td>\n",
       "      <td>Italian Restaurant</td>\n",
       "      <td>7.3</td>\n",
       "    </tr>\n",
       "    <tr>\n",
       "      <th>44</th>\n",
       "      <td>La Enfrijolada</td>\n",
       "      <td>-2.912272</td>\n",
       "      <td>-79.001237</td>\n",
       "      <td>Mexican Restaurant</td>\n",
       "      <td>7.6</td>\n",
       "    </tr>\n",
       "    <tr>\n",
       "      <th>56</th>\n",
       "      <td>La Parola Cafe Bar Restaurant</td>\n",
       "      <td>-2.902619</td>\n",
       "      <td>-79.002864</td>\n",
       "      <td>Bar</td>\n",
       "      <td>7.7</td>\n",
       "    </tr>\n",
       "    <tr>\n",
       "      <th>57</th>\n",
       "      <td>Wunderbar Café</td>\n",
       "      <td>-2.902526</td>\n",
       "      <td>-79.003120</td>\n",
       "      <td>Bar</td>\n",
       "      <td>7.7</td>\n",
       "    </tr>\n",
       "    <tr>\n",
       "      <th>59</th>\n",
       "      <td>Chiplote</td>\n",
       "      <td>-2.901312</td>\n",
       "      <td>-79.004791</td>\n",
       "      <td>Bar</td>\n",
       "      <td>7.7</td>\n",
       "    </tr>\n",
       "    <tr>\n",
       "      <th>61</th>\n",
       "      <td>Inka Lounge</td>\n",
       "      <td>-2.901722</td>\n",
       "      <td>-79.005304</td>\n",
       "      <td>Bar</td>\n",
       "      <td>7.7</td>\n",
       "    </tr>\n",
       "    <tr>\n",
       "      <th>62</th>\n",
       "      <td>Runway_Lounge</td>\n",
       "      <td>-2.901765</td>\n",
       "      <td>-79.003813</td>\n",
       "      <td>Gastropub</td>\n",
       "      <td>7.4</td>\n",
       "    </tr>\n",
       "    <tr>\n",
       "      <th>63</th>\n",
       "      <td>Sports Planet</td>\n",
       "      <td>-2.906014</td>\n",
       "      <td>-79.002738</td>\n",
       "      <td>American Restaurant</td>\n",
       "      <td>7.6</td>\n",
       "    </tr>\n",
       "    <tr>\n",
       "      <th>64</th>\n",
       "      <td>El Maiz</td>\n",
       "      <td>-2.905192</td>\n",
       "      <td>-78.998927</td>\n",
       "      <td>South American Restaurant</td>\n",
       "      <td>7.3</td>\n",
       "    </tr>\n",
       "    <tr>\n",
       "      <th>65</th>\n",
       "      <td>Burger King</td>\n",
       "      <td>-2.905869</td>\n",
       "      <td>-79.002434</td>\n",
       "      <td>Fast Food Restaurant</td>\n",
       "      <td>7.4</td>\n",
       "    </tr>\n",
       "    <tr>\n",
       "      <th>69</th>\n",
       "      <td>Chill &amp; Grill</td>\n",
       "      <td>-2.906232</td>\n",
       "      <td>-79.003777</td>\n",
       "      <td>Sandwich Place</td>\n",
       "      <td>7.3</td>\n",
       "    </tr>\n",
       "    <tr>\n",
       "      <th>74</th>\n",
       "      <td>Cactus Café</td>\n",
       "      <td>-2.908590</td>\n",
       "      <td>-78.991808</td>\n",
       "      <td>Burrito Place</td>\n",
       "      <td>7.5</td>\n",
       "    </tr>\n",
       "    <tr>\n",
       "      <th>75</th>\n",
       "      <td>Piatto</td>\n",
       "      <td>-2.902396</td>\n",
       "      <td>-78.986622</td>\n",
       "      <td>Pizza Place</td>\n",
       "      <td>7.3</td>\n",
       "    </tr>\n",
       "    <tr>\n",
       "      <th>80</th>\n",
       "      <td>KFC</td>\n",
       "      <td>-2.887243</td>\n",
       "      <td>-78.985257</td>\n",
       "      <td>Fast Food Restaurant</td>\n",
       "      <td>7.5</td>\n",
       "    </tr>\n",
       "    <tr>\n",
       "      <th>81</th>\n",
       "      <td>Manuco's restaurant</td>\n",
       "      <td>-2.877671</td>\n",
       "      <td>-78.986017</td>\n",
       "      <td>Restaurant</td>\n",
       "      <td>7.5</td>\n",
       "    </tr>\n",
       "    <tr>\n",
       "      <th>82</th>\n",
       "      <td>kleber's</td>\n",
       "      <td>-2.864221</td>\n",
       "      <td>-78.988724</td>\n",
       "      <td>Hot Dog Joint</td>\n",
       "      <td>7.5</td>\n",
       "    </tr>\n",
       "    <tr>\n",
       "      <th>85</th>\n",
       "      <td>La herradura</td>\n",
       "      <td>-2.897125</td>\n",
       "      <td>-78.976941</td>\n",
       "      <td>BBQ Joint</td>\n",
       "      <td>7.5</td>\n",
       "    </tr>\n",
       "  </tbody>\n",
       "</table>\n",
       "</div>"
      ],
      "text/plain": [
       "                            Venue  Latitude  Longitude  \\\n",
       "0     Picantes De Leo, Bellavista -2.888823 -79.006569   \n",
       "1                            Viko -2.886314 -79.008958   \n",
       "6                      La Taberna -2.891445 -79.021006   \n",
       "12   Orange Original Food Remigio -2.902367 -79.013591   \n",
       "13                   La Herradura -2.903816 -79.012646   \n",
       "15          Los Molinos del Batán -2.897627 -79.012956   \n",
       "19                   La Parihuela -2.901783 -79.008563   \n",
       "20                      Pizza Hut -2.906320 -79.009441   \n",
       "21                     El Arriero -2.900275 -79.022117   \n",
       "28          El Puerto Marisquería -2.901567 -79.008598   \n",
       "34           Hot Dog del Tropical -2.894521 -79.005747   \n",
       "35                   Café Austria -2.897694 -79.001984   \n",
       "37                     Simon 7-84 -2.896955 -79.003779   \n",
       "38                       Sabaneta -2.898535 -79.003311   \n",
       "42                        La Viña -2.900130 -79.004437   \n",
       "44                 La Enfrijolada -2.912272 -79.001237   \n",
       "56  La Parola Cafe Bar Restaurant -2.902619 -79.002864   \n",
       "57                 Wunderbar Café -2.902526 -79.003120   \n",
       "59                       Chiplote -2.901312 -79.004791   \n",
       "61                    Inka Lounge -2.901722 -79.005304   \n",
       "62                  Runway_Lounge -2.901765 -79.003813   \n",
       "63                  Sports Planet -2.906014 -79.002738   \n",
       "64                        El Maiz -2.905192 -78.998927   \n",
       "65                    Burger King -2.905869 -79.002434   \n",
       "69                  Chill & Grill -2.906232 -79.003777   \n",
       "74                    Cactus Café -2.908590 -78.991808   \n",
       "75                         Piatto -2.902396 -78.986622   \n",
       "80                            KFC -2.887243 -78.985257   \n",
       "81            Manuco's restaurant -2.877671 -78.986017   \n",
       "82                       kleber's -2.864221 -78.988724   \n",
       "85                   La herradura -2.897125 -78.976941   \n",
       "\n",
       "                     Category  Rating  \n",
       "0          Seafood Restaurant     7.4  \n",
       "1         Fried Chicken Joint     7.5  \n",
       "6           Food & Drink Shop     7.5  \n",
       "12                Wings Joint     7.5  \n",
       "13                 Steakhouse     7.7  \n",
       "15                 Restaurant     7.5  \n",
       "19         Seafood Restaurant     7.5  \n",
       "20                Pizza Place     7.7  \n",
       "21                  BBQ Joint     7.4  \n",
       "28         Seafood Restaurant     7.5  \n",
       "34              Hot Dog Joint     7.7  \n",
       "35        Austrian Restaurant     7.5  \n",
       "37           Theme Restaurant     7.5  \n",
       "38                  Gastropub     7.6  \n",
       "42         Italian Restaurant     7.3  \n",
       "44         Mexican Restaurant     7.6  \n",
       "56                        Bar     7.7  \n",
       "57                        Bar     7.7  \n",
       "59                        Bar     7.7  \n",
       "61                        Bar     7.7  \n",
       "62                  Gastropub     7.4  \n",
       "63        American Restaurant     7.6  \n",
       "64  South American Restaurant     7.3  \n",
       "65       Fast Food Restaurant     7.4  \n",
       "69             Sandwich Place     7.3  \n",
       "74              Burrito Place     7.5  \n",
       "75                Pizza Place     7.3  \n",
       "80       Fast Food Restaurant     7.5  \n",
       "81                 Restaurant     7.5  \n",
       "82              Hot Dog Joint     7.5  \n",
       "85                  BBQ Joint     7.5  "
      ]
     },
     "execution_count": 29,
     "metadata": {},
     "output_type": "execute_result"
    }
   ],
   "source": [
    "cuenca_food.loc[cuenca_food['Cluster Labels'] == 2, cuenca_food.columns[[2] + list(range(4, cuenca_food.shape[1]))]]"
   ]
  },
  {
   "cell_type": "code",
   "execution_count": 30,
   "metadata": {},
   "outputs": [
    {
     "data": {
      "text/html": [
       "<div>\n",
       "<style scoped>\n",
       "    .dataframe tbody tr th:only-of-type {\n",
       "        vertical-align: middle;\n",
       "    }\n",
       "\n",
       "    .dataframe tbody tr th {\n",
       "        vertical-align: top;\n",
       "    }\n",
       "\n",
       "    .dataframe thead th {\n",
       "        text-align: right;\n",
       "    }\n",
       "</style>\n",
       "<table border=\"1\" class=\"dataframe\">\n",
       "  <thead>\n",
       "    <tr style=\"text-align: right;\">\n",
       "      <th></th>\n",
       "      <th>Venue</th>\n",
       "      <th>Latitude</th>\n",
       "      <th>Longitude</th>\n",
       "      <th>Category</th>\n",
       "      <th>Rating</th>\n",
       "    </tr>\n",
       "  </thead>\n",
       "  <tbody>\n",
       "    <tr>\n",
       "      <th>14</th>\n",
       "      <td>Mangiare Bene</td>\n",
       "      <td>-2.895692</td>\n",
       "      <td>-79.009809</td>\n",
       "      <td>Italian Restaurant</td>\n",
       "      <td>8.8</td>\n",
       "    </tr>\n",
       "    <tr>\n",
       "      <th>17</th>\n",
       "      <td>Noé sushi bar</td>\n",
       "      <td>-2.907668</td>\n",
       "      <td>-79.009867</td>\n",
       "      <td>Sushi Restaurant</td>\n",
       "      <td>8.4</td>\n",
       "    </tr>\n",
       "    <tr>\n",
       "      <th>30</th>\n",
       "      <td>Fabianos</td>\n",
       "      <td>-2.899702</td>\n",
       "      <td>-79.001052</td>\n",
       "      <td>Pizza Place</td>\n",
       "      <td>8.5</td>\n",
       "    </tr>\n",
       "    <tr>\n",
       "      <th>33</th>\n",
       "      <td>Tiestos</td>\n",
       "      <td>-2.900844</td>\n",
       "      <td>-79.001314</td>\n",
       "      <td>South American Restaurant</td>\n",
       "      <td>8.7</td>\n",
       "    </tr>\n",
       "    <tr>\n",
       "      <th>45</th>\n",
       "      <td>El Charrua</td>\n",
       "      <td>-2.911503</td>\n",
       "      <td>-79.006685</td>\n",
       "      <td>BBQ Joint</td>\n",
       "      <td>8.8</td>\n",
       "    </tr>\n",
       "    <tr>\n",
       "      <th>52</th>\n",
       "      <td>Mediterraneo</td>\n",
       "      <td>-2.901106</td>\n",
       "      <td>-79.004264</td>\n",
       "      <td>Italian Restaurant</td>\n",
       "      <td>8.9</td>\n",
       "    </tr>\n",
       "    <tr>\n",
       "      <th>54</th>\n",
       "      <td>El Mercado Cuenca</td>\n",
       "      <td>-2.901356</td>\n",
       "      <td>-79.005226</td>\n",
       "      <td>Comfort Food Restaurant</td>\n",
       "      <td>8.8</td>\n",
       "    </tr>\n",
       "    <tr>\n",
       "      <th>78</th>\n",
       "      <td>Rancho Chileno</td>\n",
       "      <td>-2.889141</td>\n",
       "      <td>-78.986598</td>\n",
       "      <td>Restaurant</td>\n",
       "      <td>8.5</td>\n",
       "    </tr>\n",
       "  </tbody>\n",
       "</table>\n",
       "</div>"
      ],
      "text/plain": [
       "                Venue  Latitude  Longitude                   Category  Rating\n",
       "14      Mangiare Bene -2.895692 -79.009809         Italian Restaurant     8.8\n",
       "17      Noé sushi bar -2.907668 -79.009867           Sushi Restaurant     8.4\n",
       "30           Fabianos -2.899702 -79.001052                Pizza Place     8.5\n",
       "33            Tiestos -2.900844 -79.001314  South American Restaurant     8.7\n",
       "45         El Charrua -2.911503 -79.006685                  BBQ Joint     8.8\n",
       "52       Mediterraneo -2.901106 -79.004264         Italian Restaurant     8.9\n",
       "54  El Mercado Cuenca -2.901356 -79.005226    Comfort Food Restaurant     8.8\n",
       "78     Rancho Chileno -2.889141 -78.986598                 Restaurant     8.5"
      ]
     },
     "execution_count": 30,
     "metadata": {},
     "output_type": "execute_result"
    }
   ],
   "source": [
    "cuenca_food.loc[cuenca_food['Cluster Labels'] == 3, cuenca_food.columns[[2] + list(range(4, cuenca_food.shape[1]))]]"
   ]
  },
  {
   "cell_type": "code",
   "execution_count": 31,
   "metadata": {},
   "outputs": [
    {
     "data": {
      "text/html": [
       "<div>\n",
       "<style scoped>\n",
       "    .dataframe tbody tr th:only-of-type {\n",
       "        vertical-align: middle;\n",
       "    }\n",
       "\n",
       "    .dataframe tbody tr th {\n",
       "        vertical-align: top;\n",
       "    }\n",
       "\n",
       "    .dataframe thead th {\n",
       "        text-align: right;\n",
       "    }\n",
       "</style>\n",
       "<table border=\"1\" class=\"dataframe\">\n",
       "  <thead>\n",
       "    <tr style=\"text-align: right;\">\n",
       "      <th></th>\n",
       "      <th>Venue</th>\n",
       "      <th>Latitude</th>\n",
       "      <th>Longitude</th>\n",
       "      <th>Category</th>\n",
       "      <th>Rating</th>\n",
       "    </tr>\n",
       "  </thead>\n",
       "  <tbody>\n",
       "    <tr>\n",
       "      <th>4</th>\n",
       "      <td>BQ Sport</td>\n",
       "      <td>-2.891020</td>\n",
       "      <td>-79.026107</td>\n",
       "      <td>Restaurant</td>\n",
       "      <td>6.3</td>\n",
       "    </tr>\n",
       "    <tr>\n",
       "      <th>5</th>\n",
       "      <td>Local 5</td>\n",
       "      <td>-2.889180</td>\n",
       "      <td>-79.033200</td>\n",
       "      <td>American Restaurant</td>\n",
       "      <td>6.1</td>\n",
       "    </tr>\n",
       "    <tr>\n",
       "      <th>26</th>\n",
       "      <td>John's Burger</td>\n",
       "      <td>-2.902962</td>\n",
       "      <td>-79.019854</td>\n",
       "      <td>Burger Joint</td>\n",
       "      <td>6.4</td>\n",
       "    </tr>\n",
       "    <tr>\n",
       "      <th>27</th>\n",
       "      <td>Restaurant El Tequila</td>\n",
       "      <td>-2.892909</td>\n",
       "      <td>-79.016054</td>\n",
       "      <td>South American Restaurant</td>\n",
       "      <td>6.3</td>\n",
       "    </tr>\n",
       "    <tr>\n",
       "      <th>47</th>\n",
       "      <td>Retroburger</td>\n",
       "      <td>-2.910245</td>\n",
       "      <td>-78.999106</td>\n",
       "      <td>Fast Food Restaurant</td>\n",
       "      <td>6.6</td>\n",
       "    </tr>\n",
       "    <tr>\n",
       "      <th>49</th>\n",
       "      <td>La Marisqueria de Pedro</td>\n",
       "      <td>-2.910851</td>\n",
       "      <td>-78.999491</td>\n",
       "      <td>Seafood Restaurant</td>\n",
       "      <td>6.5</td>\n",
       "    </tr>\n",
       "    <tr>\n",
       "      <th>50</th>\n",
       "      <td>Terrace</td>\n",
       "      <td>-2.909774</td>\n",
       "      <td>-79.003697</td>\n",
       "      <td>Restaurant</td>\n",
       "      <td>6.2</td>\n",
       "    </tr>\n",
       "    <tr>\n",
       "      <th>72</th>\n",
       "      <td>Papa John's Pizza</td>\n",
       "      <td>-2.905576</td>\n",
       "      <td>-79.002538</td>\n",
       "      <td>Pizza Place</td>\n",
       "      <td>6.4</td>\n",
       "    </tr>\n",
       "    <tr>\n",
       "      <th>76</th>\n",
       "      <td>Papá Broster</td>\n",
       "      <td>-2.904006</td>\n",
       "      <td>-78.990999</td>\n",
       "      <td>Fried Chicken Joint</td>\n",
       "      <td>5.9</td>\n",
       "    </tr>\n",
       "    <tr>\n",
       "      <th>79</th>\n",
       "      <td>Patio De Comidas</td>\n",
       "      <td>-2.889862</td>\n",
       "      <td>-78.987503</td>\n",
       "      <td>Food Court</td>\n",
       "      <td>5.8</td>\n",
       "    </tr>\n",
       "    <tr>\n",
       "      <th>83</th>\n",
       "      <td>Patio de comidas Monay Shopping</td>\n",
       "      <td>-2.897084</td>\n",
       "      <td>-78.976991</td>\n",
       "      <td>Food Court</td>\n",
       "      <td>6.4</td>\n",
       "    </tr>\n",
       "    <tr>\n",
       "      <th>84</th>\n",
       "      <td>Colombia Pizza</td>\n",
       "      <td>-2.891829</td>\n",
       "      <td>-78.984710</td>\n",
       "      <td>Pizza Place</td>\n",
       "      <td>6.4</td>\n",
       "    </tr>\n",
       "  </tbody>\n",
       "</table>\n",
       "</div>"
      ],
      "text/plain": [
       "                              Venue  Latitude  Longitude  \\\n",
       "4                          BQ Sport -2.891020 -79.026107   \n",
       "5                           Local 5 -2.889180 -79.033200   \n",
       "26                    John's Burger -2.902962 -79.019854   \n",
       "27            Restaurant El Tequila -2.892909 -79.016054   \n",
       "47                      Retroburger -2.910245 -78.999106   \n",
       "49          La Marisqueria de Pedro -2.910851 -78.999491   \n",
       "50                          Terrace -2.909774 -79.003697   \n",
       "72                Papa John's Pizza -2.905576 -79.002538   \n",
       "76                     Papá Broster -2.904006 -78.990999   \n",
       "79                 Patio De Comidas -2.889862 -78.987503   \n",
       "83  Patio de comidas Monay Shopping -2.897084 -78.976991   \n",
       "84                   Colombia Pizza -2.891829 -78.984710   \n",
       "\n",
       "                     Category  Rating  \n",
       "4                  Restaurant     6.3  \n",
       "5         American Restaurant     6.1  \n",
       "26               Burger Joint     6.4  \n",
       "27  South American Restaurant     6.3  \n",
       "47       Fast Food Restaurant     6.6  \n",
       "49         Seafood Restaurant     6.5  \n",
       "50                 Restaurant     6.2  \n",
       "72                Pizza Place     6.4  \n",
       "76        Fried Chicken Joint     5.9  \n",
       "79                 Food Court     5.8  \n",
       "83                 Food Court     6.4  \n",
       "84                Pizza Place     6.4  "
      ]
     },
     "execution_count": 31,
     "metadata": {},
     "output_type": "execute_result"
    }
   ],
   "source": [
    "cuenca_food.loc[cuenca_food['Cluster Labels'] == 4, cuenca_food.columns[[2] + list(range(4, cuenca_food.shape[1]))]]"
   ]
  },
  {
   "cell_type": "markdown",
   "metadata": {},
   "source": [
    "Convert the cluster number 3 to a dataframe, then we can create a map for this places and analyze the location related to the city"
   ]
  },
  {
   "cell_type": "code",
   "execution_count": 32,
   "metadata": {},
   "outputs": [],
   "source": [
    "top_places=cuenca_food.loc[cuenca_food['Cluster Labels'] == 3, cuenca_food.columns[[2] + list(range(4, cuenca_food.shape[1]))]]"
   ]
  },
  {
   "cell_type": "markdown",
   "metadata": {},
   "source": [
    "In the following statement, the data frame is sorted according to the classification for the next use."
   ]
  },
  {
   "cell_type": "code",
   "execution_count": 33,
   "metadata": {},
   "outputs": [],
   "source": [
    "top_places.sort_values(['Rating'], axis=0, inplace=True)"
   ]
  },
  {
   "cell_type": "code",
   "execution_count": 34,
   "metadata": {},
   "outputs": [
    {
     "data": {
      "text/html": [
       "<div style=\"width:100%;\"><div style=\"position:relative;width:100%;height:0;padding-bottom:60%;\"><iframe src=\"about:blank\" style=\"position:absolute;width:100%;height:100%;left:0;top:0;border:none !important;\" data-html=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 onload=\"this.contentDocument.open();this.contentDocument.write(atob(this.getAttribute('data-html')));this.contentDocument.close();\" allowfullscreen webkitallowfullscreen mozallowfullscreen></iframe></div></div>"
      ],
      "text/plain": [
       "<folium.folium.Map at 0x7fd715ef84e0>"
      ]
     },
     "execution_count": 34,
     "metadata": {},
     "output_type": "execute_result"
    }
   ],
   "source": [
    "# create map\n",
    "top_cuenca = folium.Map(location=[latitude, longitude], zoom_start=14)\n",
    "\n",
    "# add markers to the map\n",
    "for lat, lng, label, categorie, rating in zip(top_places['Latitude'], \n",
    "                                              top_places['Longitude'], \n",
    "                                              top_places['Venue'], \n",
    "                                              top_places['Category'],\n",
    "                                              top_places['Rating']):\n",
    "    label = folium.Popup(str(label) + ' Categoria: '+ str(categorie) + ' Rating: '+ str(rating), parse_html=True)\n",
    "    folium.CircleMarker(\n",
    "        [lat, lng],\n",
    "        radius=5,\n",
    "        popup=label,\n",
    "        color='cyan',\n",
    "        fill=True,\n",
    "        fill_color='#7f0e36',\n",
    "        fill_opacity=0.7).add_to(top_cuenca)\n",
    "       \n",
    "top_cuenca"
   ]
  },
  {
   "cell_type": "markdown",
   "metadata": {},
   "source": [
    "From the previous data frame, we created a new data frame with only three columns to present it using bars and lines."
   ]
  },
  {
   "cell_type": "code",
   "execution_count": 35,
   "metadata": {},
   "outputs": [],
   "source": [
    "top_placesdf=top_places[['Venue','Category','Rating']]\n",
    "top_placesdf.set_index('Venue', inplace=True)"
   ]
  },
  {
   "cell_type": "code",
   "execution_count": 36,
   "metadata": {},
   "outputs": [
    {
     "data": {
      "text/html": [
       "<div>\n",
       "<style scoped>\n",
       "    .dataframe tbody tr th:only-of-type {\n",
       "        vertical-align: middle;\n",
       "    }\n",
       "\n",
       "    .dataframe tbody tr th {\n",
       "        vertical-align: top;\n",
       "    }\n",
       "\n",
       "    .dataframe thead th {\n",
       "        text-align: right;\n",
       "    }\n",
       "</style>\n",
       "<table border=\"1\" class=\"dataframe\">\n",
       "  <thead>\n",
       "    <tr style=\"text-align: right;\">\n",
       "      <th></th>\n",
       "      <th>Category</th>\n",
       "      <th>Rating</th>\n",
       "    </tr>\n",
       "    <tr>\n",
       "      <th>Venue</th>\n",
       "      <th></th>\n",
       "      <th></th>\n",
       "    </tr>\n",
       "  </thead>\n",
       "  <tbody>\n",
       "    <tr>\n",
       "      <th>Noé sushi bar</th>\n",
       "      <td>Sushi Restaurant</td>\n",
       "      <td>8.4</td>\n",
       "    </tr>\n",
       "    <tr>\n",
       "      <th>Fabianos</th>\n",
       "      <td>Pizza Place</td>\n",
       "      <td>8.5</td>\n",
       "    </tr>\n",
       "    <tr>\n",
       "      <th>Rancho Chileno</th>\n",
       "      <td>Restaurant</td>\n",
       "      <td>8.5</td>\n",
       "    </tr>\n",
       "    <tr>\n",
       "      <th>Tiestos</th>\n",
       "      <td>South American Restaurant</td>\n",
       "      <td>8.7</td>\n",
       "    </tr>\n",
       "    <tr>\n",
       "      <th>Mangiare Bene</th>\n",
       "      <td>Italian Restaurant</td>\n",
       "      <td>8.8</td>\n",
       "    </tr>\n",
       "  </tbody>\n",
       "</table>\n",
       "</div>"
      ],
      "text/plain": [
       "                                 Category  Rating\n",
       "Venue                                            \n",
       "Noé sushi bar            Sushi Restaurant     8.4\n",
       "Fabianos                      Pizza Place     8.5\n",
       "Rancho Chileno                 Restaurant     8.5\n",
       "Tiestos         South American Restaurant     8.7\n",
       "Mangiare Bene          Italian Restaurant     8.8"
      ]
     },
     "execution_count": 36,
     "metadata": {},
     "output_type": "execute_result"
    }
   ],
   "source": [
    "top_placesdf.head()"
   ]
  },
  {
   "cell_type": "markdown",
   "metadata": {},
   "source": [
    "Create a bar graph that shows the top-rated places and their names."
   ]
  },
  {
   "cell_type": "code",
   "execution_count": 37,
   "metadata": {
    "scrolled": false
   },
   "outputs": [
    {
     "data": {
      "image/png": "[encoded data removed]",
      "text/plain": [
       "<Figure size 576x432 with 1 Axes>"
      ]
     },
     "metadata": {},
     "output_type": "display_data"
    }
   ],
   "source": [
    "ax = top_placesdf.plot(kind='barh',\n",
    "                       figsize=(8, 6),\n",
    "                       color='#5bc0de',\n",
    "                       width=0.5,\n",
    "                       fontsize=14\n",
    "                        )\n",
    "ax.set_title('Top Restaurant Places in Cuenca by Rating',fontsize=16)\n",
    "ax.axes.get_xaxis().set_visible(False)\n",
    "ax.patch.set_facecolor('white')\n",
    "ax.get_legend().remove()\n",
    "for b in ax.patches:\n",
    "    width = b.get_width()\n",
    "    y = b.get_y()\n",
    "    ax.annotate(width,(width - 0.5, y + 0.1),fontsize=14)"
   ]
  },
  {
   "cell_type": "markdown",
   "metadata": {},
   "source": [
    "As we can see, the best place rating in the city of Cuenca is the Mediterranean restaurant, which has a rating of 8.9 according to the Foursquare rating."
   ]
  },
  {
   "cell_type": "code",
   "execution_count": 38,
   "metadata": {
    "scrolled": false
   },
   "outputs": [
    {
     "data": {
      "text/plain": [
       "[Text(0, 0, 'Mediterraneo'),\n",
       " Text(0, 0, 'Noé sushi bar'),\n",
       " Text(0, 0, 'Fabianos'),\n",
       " Text(0, 0, 'Rancho Chileno'),\n",
       " Text(0, 0, 'Tiestos'),\n",
       " Text(0, 0, 'Mangiare Bene'),\n",
       " Text(0, 0, 'El Charrua'),\n",
       " Text(0, 0, 'El Mercado Cuenca'),\n",
       " Text(0, 0, 'Mediterraneo'),\n",
       " Text(0, 0, '')]"
      ]
     },
     "execution_count": 38,
     "metadata": {},
     "output_type": "execute_result"
    },
    {
     "data": {
      "image/png": "[encoded data removed]",
      "text/plain": [
       "<Figure size 720x576 with 1 Axes>"
      ]
     },
     "metadata": {},
     "output_type": "display_data"
    }
   ],
   "source": [
    "ax1 = top_placesdf.plot(kind='line', \n",
    "                        figsize=(10,8),\n",
    "                        fontsize=14,\n",
    "                        color='#7f0e36'\n",
    "                        )\n",
    "ax1.set_title('Top Restaurant Places in Cuenca by Rating',fontsize=16)\n",
    "ax1.get_legend().remove()\n",
    "ax1.set_xticklabels(ax1.get_xticklabels(), rotation=30, ha='right')"
   ]
  },
  {
   "cell_type": "markdown",
   "metadata": {},
   "source": [
    "We can see that the best rating goes from 8.4 to 8.9, so this is important information for an investor to know the restaurant environment and what type of place will be more accepted in the city."
   ]
  },
  {
   "cell_type": "code",
   "execution_count": 39,
   "metadata": {},
   "outputs": [],
   "source": [
    "top_categories=top_placesdf.groupby('Category').count()"
   ]
  },
  {
   "cell_type": "markdown",
   "metadata": {},
   "source": [
    "Now we create a new data frame, this time with the place categories, to find out which type of top-rated restaurants are the most common."
   ]
  },
  {
   "cell_type": "code",
   "execution_count": 40,
   "metadata": {},
   "outputs": [
    {
     "data": {
      "text/plain": [
       "[Text(0, 0, 'BBQ Joint'),\n",
       " Text(0, 0, 'Comfort Food Restaurant'),\n",
       " Text(0, 0, 'Italian Restaurant'),\n",
       " Text(0, 0, 'Pizza Place'),\n",
       " Text(0, 0, 'Restaurant'),\n",
       " Text(0, 0, 'South American Restaurant'),\n",
       " Text(0, 0, 'Sushi Restaurant')]"
      ]
     },
     "execution_count": 40,
     "metadata": {},
     "output_type": "execute_result"
    },
    {
     "data": {
      "image/png": "[encoded data removed]",
      "text/plain": [
       "<Figure size 720x576 with 1 Axes>"
      ]
     },
     "metadata": {},
     "output_type": "display_data"
    }
   ],
   "source": [
    "ax1 = top_categories.plot(kind='bar', \n",
    "                        figsize=(10,8),\n",
    "                        fontsize=14,\n",
    "                        color='#7f0e36'\n",
    "                        )\n",
    "ax1.set_title('Top Restaurant Categories in Cuenca',fontsize=16)\n",
    "ax1.get_legend().remove()\n",
    "ax1.set_xticklabels(ax1.get_xticklabels(), rotation=30, ha='right')"
   ]
  },
  {
   "cell_type": "markdown",
   "metadata": {},
   "source": [
    "As we can seee the Italian Restaurant have two places in the most higher rating restaurants in Cuenca, so now we have an idea of what kind of restaurant is the most accepted and best ranking in the city.\n",
    "With this information, a potential investor can lean his decision on what type of business he invests."
   ]
  },
  {
   "cell_type": "code",
   "execution_count": null,
   "metadata": {},
   "outputs": [],
   "source": []
  }
 ],
 "metadata": {
  "kernelspec": {
   "display_name": "Python 3",
   "language": "python",
   "name": "python3"
  },
  "language_info": {
   "codemirror_mode": {
    "name": "ipython",
    "version": 3
   },
   "file_extension": ".py",
   "mimetype": "text/x-python",
   "name": "python",
   "nbconvert_exporter": "python",
   "pygments_lexer": "ipython3",
   "version": "3.6.8"
  }
 },
 "nbformat": 4,
 "nbformat_minor": 4
}
